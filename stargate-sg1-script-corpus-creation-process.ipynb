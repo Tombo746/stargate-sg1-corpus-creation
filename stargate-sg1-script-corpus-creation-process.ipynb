{
 "cells": [
  {
   "cell_type": "markdown",
   "metadata": {
    "papermill": {
     "duration": 0.026341,
     "end_time": "2021-02-22T21:58:17.251976",
     "exception": false,
     "start_time": "2021-02-22T21:58:17.225635",
     "status": "completed"
    },
    "tags": []
   },
   "source": [
    "# Stargate SG1 Script Corpus Creation Process\n",
    "### Process raw scripts from season 1 to the end of season 5 from imsdb into a table and review\n",
    "\n",
    "Thomas Bowe"
   ]
  },
  {
   "cell_type": "markdown",
   "metadata": {
    "papermill": {
     "duration": 0.024845,
     "end_time": "2021-02-22T21:58:17.301802",
     "exception": false,
     "start_time": "2021-02-22T21:58:17.276957",
     "status": "completed"
    },
    "tags": []
   },
   "source": [
    "* [Introduction](#section-one)\n",
    "* [Initial Load of Sample Episode (E01S01)](#section-two)\n",
    "* [Categorisation of Each Line of Script](#section-three)\n",
    "* [Trimming the Content Field](#section-four)\n",
    "* [Episode Information Extraction](#section-five)\n",
    "* [Add Episode Information as Seperate Fields](#section-six)\n",
    "* [Add Character Field](#section-seven)\n",
    "* [Fill Down Character Designations to Their Associated Dialogue](#section-eight)\n",
    "* [Create Line Index](#section-nine)\n",
    "* [Consolidate Data Based on Line Index](#section-ten)\n",
    "* [Create For Loop to Process Multiple Episode Files Into a Corpus](#section-eleven)\n",
    "* [Review Data Where text_type is \"Other\" Indicating an Error](#section-twelve)\n",
    "* [Review All Episodes For Writing Style Changes](#section-thirteen)\n",
    "    - [Total Direction Frequency Review](#subsection-one)\n",
    "    - [Total Character Dialogue Lines Frequency Review](#subsection-two)\n",
    "    - [Main Character Line Frequency Review](#subsection-three)\n",
    "    - [Frequency of Main Character Mentions in Dialogue](#subsection-four)\n",
    "* [Preview of Stargate SG1 Corpus](#section-fourteen)\n",
    "\n",
    "<a id=\"section-one\"></a>\n",
    "# Introduction\n",
    "The purpose of this workbook is to document the process for creating a Stargate SG1 Corpus up until at least when Daniel Ascended for use in exploratory data analytics, text mining, sentiment analysis, etc. Scripts were sourced from https://www.imsdb.com/TV/Stargate%20SG1.html and saved as .txt with only minor alterations to the content made manually. The scripts are available only up until season 9, episode 10 which is unfortunate but arguably the show changed dramatically from season 6 so I will focus on these seasons as a priority.\n",
    "\n",
    "I noted that the transcription of the episodes often varied in style, likely due to different transcribers, and while I could modify the code to accomodate it in most cases, some styles were riddled with transcriber commentary inside the dialogue or direction lines. I was able to remove this reliably from dialogue but directions retain some of it but I deem this to be acceptable. Some of the commentary is quite funny as it generally revolved around the transcriber noting how good looking the male characters look in various scenes."
   ]
  },
  {
   "cell_type": "markdown",
   "metadata": {
    "papermill": {
     "duration": 0.024422,
     "end_time": "2021-02-22T21:58:17.351440",
     "exception": false,
     "start_time": "2021-02-22T21:58:17.327018",
     "status": "completed"
    },
    "tags": []
   },
   "source": [
    "<a id=\"section-two\"></a>\n",
    "# Initial Load of Sample Episode (E01S01)\n",
    "\n",
    "I have scraped all the scripts from https://www.imsdb.com/TV/Stargate%20SG1.html as .txt files. I will import a sample file being the first episode of the first season \"Children of the Gods\" in order to determine the best process of converting each episode into a corpus. A sample of the raw scripts is below:"
   ]
  },
  {
   "cell_type": "code",
   "execution_count": 1,
   "metadata": {
    "_execution_state": "idle",
    "_kg_hide-input": true,
    "_kg_hide-output": true,
    "_uuid": "051d70d956493feee0c6d64651c6a088724dca2a",
    "execution": {
     "iopub.execute_input": "2021-02-22T21:58:17.432879Z",
     "iopub.status.busy": "2021-02-22T21:58:17.430765Z",
     "iopub.status.idle": "2021-02-22T21:58:19.509558Z",
     "shell.execute_reply": "2021-02-22T21:58:19.508477Z"
    },
    "papermill": {
     "duration": 2.134126,
     "end_time": "2021-02-22T21:58:19.509850",
     "exception": false,
     "start_time": "2021-02-22T21:58:17.375724",
     "status": "completed"
    },
    "tags": []
   },
   "outputs": [
    {
     "name": "stderr",
     "output_type": "stream",
     "text": [
      "── \u001b[1mAttaching packages\u001b[22m ─────────────────────────────────────── tidyverse 1.3.0 ──\n",
      "\n",
      "\u001b[32m✔\u001b[39m \u001b[34mggplot2\u001b[39m 3.3.2     \u001b[32m✔\u001b[39m \u001b[34mpurrr  \u001b[39m 0.3.4\n",
      "\u001b[32m✔\u001b[39m \u001b[34mtibble \u001b[39m 3.0.4     \u001b[32m✔\u001b[39m \u001b[34mdplyr  \u001b[39m 1.0.2\n",
      "\u001b[32m✔\u001b[39m \u001b[34mtidyr  \u001b[39m 1.1.2     \u001b[32m✔\u001b[39m \u001b[34mstringr\u001b[39m 1.4.0\n",
      "\u001b[32m✔\u001b[39m \u001b[34mreadr  \u001b[39m 1.4.0     \u001b[32m✔\u001b[39m \u001b[34mforcats\u001b[39m 0.5.0\n",
      "\n",
      "── \u001b[1mConflicts\u001b[22m ────────────────────────────────────────── tidyverse_conflicts() ──\n",
      "\u001b[31m✖\u001b[39m \u001b[34mdplyr\u001b[39m::\u001b[32mfilter()\u001b[39m masks \u001b[34mstats\u001b[39m::filter()\n",
      "\u001b[31m✖\u001b[39m \u001b[34mdplyr\u001b[39m::\u001b[32mlag()\u001b[39m    masks \u001b[34mstats\u001b[39m::lag()\n",
      "\n",
      "gdata: read.xls support for 'XLS' (Excel 97-2004) files ENABLED.\n",
      "\n",
      "\n",
      "\n",
      "gdata: read.xls support for 'XLSX' (Excel 2007+) files ENABLED.\n",
      "\n",
      "\n",
      "Attaching package: ‘gdata’\n",
      "\n",
      "\n",
      "The following objects are masked from ‘package:dplyr’:\n",
      "\n",
      "    combine, first, last\n",
      "\n",
      "\n",
      "The following object is masked from ‘package:purrr’:\n",
      "\n",
      "    keep\n",
      "\n",
      "\n",
      "The following object is masked from ‘package:stats’:\n",
      "\n",
      "    nobs\n",
      "\n",
      "\n",
      "The following object is masked from ‘package:utils’:\n",
      "\n",
      "    object.size\n",
      "\n",
      "\n",
      "The following object is masked from ‘package:base’:\n",
      "\n",
      "    startsWith\n",
      "\n",
      "\n",
      "Loading required package: NLP\n",
      "\n",
      "\n",
      "Attaching package: ‘NLP’\n",
      "\n",
      "\n",
      "The following object is masked from ‘package:ggplot2’:\n",
      "\n",
      "    annotate\n",
      "\n",
      "\n",
      "The following object is masked from ‘package:httr’:\n",
      "\n",
      "    content\n",
      "\n",
      "\n",
      "\n",
      "Attaching package: ‘plotly’\n",
      "\n",
      "\n",
      "The following object is masked from ‘package:ggplot2’:\n",
      "\n",
      "    last_plot\n",
      "\n",
      "\n",
      "The following object is masked from ‘package:stats’:\n",
      "\n",
      "    filter\n",
      "\n",
      "\n",
      "The following object is masked from ‘package:graphics’:\n",
      "\n",
      "    layout\n",
      "\n",
      "\n",
      "The following object is masked from ‘package:httr’:\n",
      "\n",
      "    config\n",
      "\n",
      "\n"
     ]
    }
   ],
   "source": [
    "library(tidyverse)\n",
    "library(gdata)\n",
    "library(tm)\n",
    "library(tidyr)\n",
    "library(plotly)\n",
    "library(stringi)"
   ]
  },
  {
   "cell_type": "code",
   "execution_count": 2,
   "metadata": {
    "_kg_hide-input": true,
    "_kg_hide-output": true,
    "execution": {
     "iopub.execute_input": "2021-02-22T21:58:19.608878Z",
     "iopub.status.busy": "2021-02-22T21:58:19.577956Z",
     "iopub.status.idle": "2021-02-22T21:58:19.770623Z",
     "shell.execute_reply": "2021-02-22T21:58:19.769354Z"
    },
    "papermill": {
     "duration": 0.227801,
     "end_time": "2021-02-22T21:58:19.770773",
     "exception": false,
     "start_time": "2021-02-22T21:58:19.542972",
     "status": "completed"
    },
    "tags": []
   },
   "outputs": [],
   "source": [
    "# Create the core theme function\n",
    "theme_tb <- function() {\n",
    "  theme(\n",
    "    panel.background = element_blank(),\n",
    "    axis.ticks = element_blank(),    \n",
    "    plot.title = element_text(size = 26, hjust = 0),                                                                        \n",
    "    plot.subtitle = element_text(hjust = 0, size = 14),          \n",
    "    plot.caption = element_text(size = 14, hjust = 1),                           \n",
    "    axis.title = element_text(size = 18),             \n",
    "    axis.text.y = element_text(size = 18),          \n",
    "    axis.text.x = element_text(size = 18, margin = margin(5, b = 10)),\n",
    "    strip.text = element_text(size = 16, hjust = 0, face = \"bold\"),\n",
    "    strip.background = element_blank(),\n",
    "    legend.title = element_text(size = 18),\n",
    "    legend.text = element_text(size = 14),\n",
    "    legend.background = element_blank(),\n",
    "    legend.key = element_blank(),\n",
    "    plot.margin = unit(c(1,2,.5,.5), \"cm\")\n",
    "  )\n",
    "}"
   ]
  },
  {
   "cell_type": "code",
   "execution_count": 3,
   "metadata": {
    "_kg_hide-input": true,
    "_kg_hide-output": true,
    "execution": {
     "iopub.execute_input": "2021-02-22T21:58:19.838316Z",
     "iopub.status.busy": "2021-02-22T21:58:19.836549Z",
     "iopub.status.idle": "2021-02-22T21:58:19.878493Z",
     "shell.execute_reply": "2021-02-22T21:58:19.877103Z"
    },
    "papermill": {
     "duration": 0.076917,
     "end_time": "2021-02-22T21:58:19.878645",
     "exception": false,
     "start_time": "2021-02-22T21:58:19.801728",
     "status": "completed"
    },
    "tags": []
   },
   "outputs": [],
   "source": [
    "ep = readLines(\"/kaggle/input/stargate-sg1-scripts/S01E01.txt\") %>% tibble(content = .)"
   ]
  },
  {
   "cell_type": "code",
   "execution_count": 4,
   "metadata": {
    "_kg_hide-input": true,
    "execution": {
     "iopub.execute_input": "2021-02-22T21:58:19.948276Z",
     "iopub.status.busy": "2021-02-22T21:58:19.946280Z",
     "iopub.status.idle": "2021-02-22T21:58:19.979617Z",
     "shell.execute_reply": "2021-02-22T21:58:19.977965Z"
    },
    "papermill": {
     "duration": 0.069074,
     "end_time": "2021-02-22T21:58:19.979768",
     "exception": false,
     "start_time": "2021-02-22T21:58:19.910694",
     "status": "completed"
    },
    "tags": []
   },
   "outputs": [
    {
     "data": {
      "text/html": [
       "<table class=\"dataframe\">\n",
       "<caption>A tibble: 30 × 1</caption>\n",
       "<thead>\n",
       "\t<tr><th scope=col>content</th></tr>\n",
       "\t<tr><th scope=col>&lt;chr&gt;</th></tr>\n",
       "</thead>\n",
       "<tbody>\n",
       "\t<tr><td>                                      STARGATE SG1                            </td></tr>\n",
       "\t<tr><td>                                                                              </td></tr>\n",
       "\t<tr><td>                                       Episode 101                            </td></tr>\n",
       "\t<tr><td>                                                                              </td></tr>\n",
       "\t<tr><td>                                  \"CHILDREN OF THE GODS\"                      </td></tr>\n",
       "\t<tr><td>                                                                              </td></tr>\n",
       "\t<tr><td>                                           By                                 </td></tr>\n",
       "\t<tr><td>                                                                              </td></tr>\n",
       "\t<tr><td><span style=white-space:pre-wrap>                             Jonathan Glassner &amp; Brad Wright                  </span></td></tr>\n",
       "\t<tr><td>                                                                              </td></tr>\n",
       "\t<tr><td>                                                                              </td></tr>\n",
       "\t<tr><td>                                                                              </td></tr>\n",
       "\t<tr><td>                                                                              </td></tr>\n",
       "\t<tr><td>               The opening scene starts in the gateroom. The gate is covered  </td></tr>\n",
       "\t<tr><td>               and in a corner of the room a group of four military personnel </td></tr>\n",
       "\t<tr><td>               are playing a game of cards.                                   </td></tr>\n",
       "\t<tr><td>                                                                              </td></tr>\n",
       "\t<tr><td>                                                                              </td></tr>\n",
       "\t<tr><td>                                                                              </td></tr>\n",
       "\t<tr><td>                                     AIRMAN                                   </td></tr>\n",
       "\t<tr><td>                         Oh, man, this hand's as lousy as this                </td></tr>\n",
       "\t<tr><td>                         detail. All right, everybody in or out.              </td></tr>\n",
       "\t<tr><td>                                                                              </td></tr>\n",
       "\t<tr><td>                                                                              </td></tr>\n",
       "\t<tr><td>                                                                              </td></tr>\n",
       "\t<tr><td>                                                                              </td></tr>\n",
       "\t<tr><td>                                                                              </td></tr>\n",
       "\t<tr><td>               One of the personnel deals out some cards.                     </td></tr>\n",
       "\t<tr><td>                                                                              </td></tr>\n",
       "\t<tr><td>                                                                              </td></tr>\n",
       "</tbody>\n",
       "</table>\n"
      ],
      "text/latex": [
       "A tibble: 30 × 1\n",
       "\\begin{tabular}{l}\n",
       " content\\\\\n",
       " <chr>\\\\\n",
       "\\hline\n",
       "\t                                       STARGATE SG1                            \\\\\n",
       "\t                                                                               \\\\\n",
       "\t                                        Episode 101                            \\\\\n",
       "\t                                                                               \\\\\n",
       "\t                                   \"CHILDREN OF THE GODS\"                      \\\\\n",
       "\t                                                                               \\\\\n",
       "\t                                            By                                 \\\\\n",
       "\t                                                                               \\\\\n",
       "\t                              Jonathan Glassner \\& Brad Wright                  \\\\\n",
       "\t                                                                               \\\\\n",
       "\t                                                                               \\\\\n",
       "\t                                                                               \\\\\n",
       "\t                                                                               \\\\\n",
       "\t                The opening scene starts in the gateroom. The gate is covered  \\\\\n",
       "\t                and in a corner of the room a group of four military personnel \\\\\n",
       "\t                are playing a game of cards.                                   \\\\\n",
       "\t                                                                               \\\\\n",
       "\t                                                                               \\\\\n",
       "\t                                                                               \\\\\n",
       "\t                                      AIRMAN                                   \\\\\n",
       "\t                          Oh, man, this hand's as lousy as this                \\\\\n",
       "\t                          detail. All right, everybody in or out.              \\\\\n",
       "\t                                                                               \\\\\n",
       "\t                                                                               \\\\\n",
       "\t                                                                               \\\\\n",
       "\t                                                                               \\\\\n",
       "\t                                                                               \\\\\n",
       "\t                One of the personnel deals out some cards.                     \\\\\n",
       "\t                                                                               \\\\\n",
       "\t                                                                               \\\\\n",
       "\\end{tabular}\n"
      ],
      "text/markdown": [
       "\n",
       "A tibble: 30 × 1\n",
       "\n",
       "| content &lt;chr&gt; |\n",
       "|---|\n",
       "|                                       STARGATE SG1                             |\n",
       "| <!----> |\n",
       "|                                        Episode 101                             |\n",
       "| <!----> |\n",
       "|                                   \"CHILDREN OF THE GODS\"                       |\n",
       "| <!----> |\n",
       "|                                            By                                  |\n",
       "| <!----> |\n",
       "|                              Jonathan Glassner &amp; Brad Wright                   |\n",
       "| <!----> |\n",
       "| <!----> |\n",
       "| <!----> |\n",
       "| <!----> |\n",
       "|                The opening scene starts in the gateroom. The gate is covered   |\n",
       "|                and in a corner of the room a group of four military personnel  |\n",
       "|                are playing a game of cards.                                    |\n",
       "| <!----> |\n",
       "| <!----> |\n",
       "| <!----> |\n",
       "|                                      AIRMAN                                    |\n",
       "|                          Oh, man, this hand's as lousy as this                 |\n",
       "|                          detail. All right, everybody in or out.               |\n",
       "| <!----> |\n",
       "| <!----> |\n",
       "| <!----> |\n",
       "| <!----> |\n",
       "| <!----> |\n",
       "|                One of the personnel deals out some cards.                      |\n",
       "| <!----> |\n",
       "| <!----> |\n",
       "\n"
      ],
      "text/plain": [
       "   content                                                                       \n",
       "1                                        STARGATE SG1                            \n",
       "2                                                                                \n",
       "3                                         Episode 101                            \n",
       "4                                                                                \n",
       "5                                    \"CHILDREN OF THE GODS\"                      \n",
       "6                                                                                \n",
       "7                                             By                                 \n",
       "8                                                                                \n",
       "9                               Jonathan Glassner & Brad Wright                  \n",
       "10                                                                               \n",
       "11                                                                               \n",
       "12                                                                               \n",
       "13                                                                               \n",
       "14                The opening scene starts in the gateroom. The gate is covered  \n",
       "15                and in a corner of the room a group of four military personnel \n",
       "16                are playing a game of cards.                                   \n",
       "17                                                                               \n",
       "18                                                                               \n",
       "19                                                                               \n",
       "20                                      AIRMAN                                   \n",
       "21                          Oh, man, this hand's as lousy as this                \n",
       "22                          detail. All right, everybody in or out.              \n",
       "23                                                                               \n",
       "24                                                                               \n",
       "25                                                                               \n",
       "26                                                                               \n",
       "27                                                                               \n",
       "28                One of the personnel deals out some cards.                     \n",
       "29                                                                               \n",
       "30                                                                               "
      ]
     },
     "metadata": {},
     "output_type": "display_data"
    }
   ],
   "source": [
    "head(ep,30)"
   ]
  },
  {
   "cell_type": "markdown",
   "metadata": {
    "papermill": {
     "duration": 0.032391,
     "end_time": "2021-02-22T21:58:20.044582",
     "exception": false,
     "start_time": "2021-02-22T21:58:20.012191",
     "status": "completed"
    },
    "tags": []
   },
   "source": [
    "<a id=\"section-three\"></a>\n",
    "# Categorisation of Each Line of Script\n",
    "\n",
    "Each script has some episode information at the top followed by either directions, character names, dialogue, or blank space which is either genuine blank space or a number of spaces. They key to making a distinction between these is the indentation/spacing. I start by searching for 3 main types of indentation and creating a new column which loosly identifies each row of the script."
   ]
  },
  {
   "cell_type": "code",
   "execution_count": 5,
   "metadata": {
    "_kg_hide-input": false,
    "execution": {
     "iopub.execute_input": "2021-02-22T21:58:20.115635Z",
     "iopub.status.busy": "2021-02-22T21:58:20.113910Z",
     "iopub.status.idle": "2021-02-22T21:58:20.191355Z",
     "shell.execute_reply": "2021-02-22T21:58:20.189814Z"
    },
    "papermill": {
     "duration": 0.114408,
     "end_time": "2021-02-22T21:58:20.191559",
     "exception": false,
     "start_time": "2021-02-22T21:58:20.077151",
     "status": "completed"
    },
    "tags": []
   },
   "outputs": [
    {
     "data": {
      "text/html": [
       "<table class=\"dataframe\">\n",
       "<caption>A tibble: 30 × 2</caption>\n",
       "<thead>\n",
       "\t<tr><th scope=col>content</th><th scope=col>text_type</th></tr>\n",
       "\t<tr><th scope=col>&lt;chr&gt;</th><th scope=col>&lt;chr&gt;</th></tr>\n",
       "</thead>\n",
       "<tbody>\n",
       "\t<tr><td>                                      STARGATE SG1                            </td><td>Character </td></tr>\n",
       "\t<tr><td>                                                                              </td><td>Other     </td></tr>\n",
       "\t<tr><td>                                       Episode 101                            </td><td>Character </td></tr>\n",
       "\t<tr><td>                                                                              </td><td>Other     </td></tr>\n",
       "\t<tr><td>                                  \"CHILDREN OF THE GODS\"                      </td><td>Script    </td></tr>\n",
       "\t<tr><td>                                                                              </td><td>Other     </td></tr>\n",
       "\t<tr><td>                                           By                                 </td><td>Character </td></tr>\n",
       "\t<tr><td>                                                                              </td><td>Other     </td></tr>\n",
       "\t<tr><td><span style=white-space:pre-wrap>                             Jonathan Glassner &amp; Brad Wright                  </span></td><td><span style=white-space:pre-wrap>Script    </span></td></tr>\n",
       "\t<tr><td>                                                                              </td><td>Other     </td></tr>\n",
       "\t<tr><td>                                                                              </td><td>Other     </td></tr>\n",
       "\t<tr><td>                                                                              </td><td>Other     </td></tr>\n",
       "\t<tr><td>                                                                              </td><td>Other     </td></tr>\n",
       "\t<tr><td>               The opening scene starts in the gateroom. The gate is covered  </td><td>Directions</td></tr>\n",
       "\t<tr><td>               and in a corner of the room a group of four military personnel </td><td>Directions</td></tr>\n",
       "\t<tr><td>               are playing a game of cards.                                   </td><td>Directions</td></tr>\n",
       "\t<tr><td>                                                                              </td><td>Other     </td></tr>\n",
       "\t<tr><td>                                                                              </td><td>Directions</td></tr>\n",
       "\t<tr><td>                                                                              </td><td>Directions</td></tr>\n",
       "\t<tr><td>                                     AIRMAN                                   </td><td>Character </td></tr>\n",
       "\t<tr><td>                         Oh, man, this hand's as lousy as this                </td><td>Script    </td></tr>\n",
       "\t<tr><td>                         detail. All right, everybody in or out.              </td><td>Script    </td></tr>\n",
       "\t<tr><td>                                                                              </td><td>Other     </td></tr>\n",
       "\t<tr><td>                                                                              </td><td>Script    </td></tr>\n",
       "\t<tr><td>                                                                              </td><td>Directions</td></tr>\n",
       "\t<tr><td>                                                                              </td><td>Directions</td></tr>\n",
       "\t<tr><td>                                                                              </td><td>Directions</td></tr>\n",
       "\t<tr><td>               One of the personnel deals out some cards.                     </td><td>Directions</td></tr>\n",
       "\t<tr><td>                                                                              </td><td>Other     </td></tr>\n",
       "\t<tr><td>                                                                              </td><td>Directions</td></tr>\n",
       "</tbody>\n",
       "</table>\n"
      ],
      "text/latex": [
       "A tibble: 30 × 2\n",
       "\\begin{tabular}{ll}\n",
       " content & text\\_type\\\\\n",
       " <chr> & <chr>\\\\\n",
       "\\hline\n",
       "\t                                       STARGATE SG1                             & Character \\\\\n",
       "\t                                                                                & Other     \\\\\n",
       "\t                                        Episode 101                             & Character \\\\\n",
       "\t                                                                                & Other     \\\\\n",
       "\t                                   \"CHILDREN OF THE GODS\"                       & Script    \\\\\n",
       "\t                                                                                & Other     \\\\\n",
       "\t                                            By                                  & Character \\\\\n",
       "\t                                                                                & Other     \\\\\n",
       "\t                              Jonathan Glassner \\& Brad Wright                   & Script    \\\\\n",
       "\t                                                                                & Other     \\\\\n",
       "\t                                                                                & Other     \\\\\n",
       "\t                                                                                & Other     \\\\\n",
       "\t                                                                                & Other     \\\\\n",
       "\t                The opening scene starts in the gateroom. The gate is covered   & Directions\\\\\n",
       "\t                and in a corner of the room a group of four military personnel  & Directions\\\\\n",
       "\t                are playing a game of cards.                                    & Directions\\\\\n",
       "\t                                                                                & Other     \\\\\n",
       "\t                                                                                & Directions\\\\\n",
       "\t                                                                                & Directions\\\\\n",
       "\t                                      AIRMAN                                    & Character \\\\\n",
       "\t                          Oh, man, this hand's as lousy as this                 & Script    \\\\\n",
       "\t                          detail. All right, everybody in or out.               & Script    \\\\\n",
       "\t                                                                                & Other     \\\\\n",
       "\t                                                                                & Script    \\\\\n",
       "\t                                                                                & Directions\\\\\n",
       "\t                                                                                & Directions\\\\\n",
       "\t                                                                                & Directions\\\\\n",
       "\t                One of the personnel deals out some cards.                      & Directions\\\\\n",
       "\t                                                                                & Other     \\\\\n",
       "\t                                                                                & Directions\\\\\n",
       "\\end{tabular}\n"
      ],
      "text/markdown": [
       "\n",
       "A tibble: 30 × 2\n",
       "\n",
       "| content &lt;chr&gt; | text_type &lt;chr&gt; |\n",
       "|---|---|\n",
       "|                                       STARGATE SG1                             | Character  |\n",
       "| <!----> | Other      |\n",
       "|                                        Episode 101                             | Character  |\n",
       "| <!----> | Other      |\n",
       "|                                   \"CHILDREN OF THE GODS\"                       | Script     |\n",
       "| <!----> | Other      |\n",
       "|                                            By                                  | Character  |\n",
       "| <!----> | Other      |\n",
       "|                              Jonathan Glassner &amp; Brad Wright                   | Script     |\n",
       "| <!----> | Other      |\n",
       "| <!----> | Other      |\n",
       "| <!----> | Other      |\n",
       "| <!----> | Other      |\n",
       "|                The opening scene starts in the gateroom. The gate is covered   | Directions |\n",
       "|                and in a corner of the room a group of four military personnel  | Directions |\n",
       "|                are playing a game of cards.                                    | Directions |\n",
       "| <!----> | Other      |\n",
       "| <!----> | Directions |\n",
       "| <!----> | Directions |\n",
       "|                                      AIRMAN                                    | Character  |\n",
       "|                          Oh, man, this hand's as lousy as this                 | Script     |\n",
       "|                          detail. All right, everybody in or out.               | Script     |\n",
       "| <!----> | Other      |\n",
       "| <!----> | Script     |\n",
       "| <!----> | Directions |\n",
       "| <!----> | Directions |\n",
       "| <!----> | Directions |\n",
       "|                One of the personnel deals out some cards.                      | Directions |\n",
       "| <!----> | Other      |\n",
       "| <!----> | Directions |\n",
       "\n"
      ],
      "text/plain": [
       "   content                                                                       \n",
       "1                                        STARGATE SG1                            \n",
       "2                                                                                \n",
       "3                                         Episode 101                            \n",
       "4                                                                                \n",
       "5                                    \"CHILDREN OF THE GODS\"                      \n",
       "6                                                                                \n",
       "7                                             By                                 \n",
       "8                                                                                \n",
       "9                               Jonathan Glassner & Brad Wright                  \n",
       "10                                                                               \n",
       "11                                                                               \n",
       "12                                                                               \n",
       "13                                                                               \n",
       "14                The opening scene starts in the gateroom. The gate is covered  \n",
       "15                and in a corner of the room a group of four military personnel \n",
       "16                are playing a game of cards.                                   \n",
       "17                                                                               \n",
       "18                                                                               \n",
       "19                                                                               \n",
       "20                                      AIRMAN                                   \n",
       "21                          Oh, man, this hand's as lousy as this                \n",
       "22                          detail. All right, everybody in or out.              \n",
       "23                                                                               \n",
       "24                                                                               \n",
       "25                                                                               \n",
       "26                                                                               \n",
       "27                                                                               \n",
       "28                One of the personnel deals out some cards.                     \n",
       "29                                                                               \n",
       "30                                                                               \n",
       "   text_type \n",
       "1  Character \n",
       "2  Other     \n",
       "3  Character \n",
       "4  Other     \n",
       "5  Script    \n",
       "6  Other     \n",
       "7  Character \n",
       "8  Other     \n",
       "9  Script    \n",
       "10 Other     \n",
       "11 Other     \n",
       "12 Other     \n",
       "13 Other     \n",
       "14 Directions\n",
       "15 Directions\n",
       "16 Directions\n",
       "17 Other     \n",
       "18 Directions\n",
       "19 Directions\n",
       "20 Character \n",
       "21 Script    \n",
       "22 Script    \n",
       "23 Other     \n",
       "24 Script    \n",
       "25 Directions\n",
       "26 Directions\n",
       "27 Directions\n",
       "28 Directions\n",
       "29 Other     \n",
       "30 Directions"
      ]
     },
     "metadata": {},
     "output_type": "display_data"
    }
   ],
   "source": [
    "# Each line of script is able to be categorised based on the indentation\n",
    "ep <-\n",
    "  mutate(\n",
    "    ep,\n",
    "    text_type = case_when(\n",
    "      str_detect(content, \"                                     \") == TRUE ~ \"Character\",\n",
    "      str_detect(content, \"                         \") == TRUE ~ \"Script\",\n",
    "      str_detect(content, \"               \") == TRUE ~ \"Directions\",\n",
    "      TRUE ~ \"Other\"\n",
    "    )\n",
    "  )\n",
    "# Preview categorised data\n",
    "head(ep, 30)"
   ]
  },
  {
   "cell_type": "markdown",
   "metadata": {
    "papermill": {
     "duration": 0.033721,
     "end_time": "2021-02-22T21:58:20.259073",
     "exception": false,
     "start_time": "2021-02-22T21:58:20.225352",
     "status": "completed"
    },
    "tags": []
   },
   "source": [
    "<a id=\"section-four\"></a>\n",
    "# Trimming the Content Field\n",
    "\n",
    "Note that the first 9 rows are unique in each epsiode script and I will extract the information contained in these rows and then delete them in subsequent steps, I.e. the fact they've been assigned nonsensical categories will not matter. For now though, I am done with the information the indentation provided so I will trim the content field. Because the spaces are now removed I can easily identify a blank row and I will remove these in the same step. I require the gdata package for the trim function."
   ]
  },
  {
   "cell_type": "code",
   "execution_count": 6,
   "metadata": {
    "_kg_hide-input": false,
    "execution": {
     "iopub.execute_input": "2021-02-22T21:58:20.331373Z",
     "iopub.status.busy": "2021-02-22T21:58:20.330151Z",
     "iopub.status.idle": "2021-02-22T21:58:20.367154Z",
     "shell.execute_reply": "2021-02-22T21:58:20.366023Z"
    },
    "papermill": {
     "duration": 0.074284,
     "end_time": "2021-02-22T21:58:20.367295",
     "exception": false,
     "start_time": "2021-02-22T21:58:20.293011",
     "status": "completed"
    },
    "tags": []
   },
   "outputs": [
    {
     "data": {
      "text/html": [
       "<table class=\"dataframe\">\n",
       "<caption>A tibble: 12 × 2</caption>\n",
       "<thead>\n",
       "\t<tr><th scope=col>content</th><th scope=col>text_type</th></tr>\n",
       "\t<tr><th scope=col>&lt;chr&gt;</th><th scope=col>&lt;chr&gt;</th></tr>\n",
       "</thead>\n",
       "<tbody>\n",
       "\t<tr><td>STARGATE SG1                                                  </td><td>Character </td></tr>\n",
       "\t<tr><td>Episode 101                                                   </td><td>Character </td></tr>\n",
       "\t<tr><td>\"CHILDREN OF THE GODS\"                                        </td><td>Script    </td></tr>\n",
       "\t<tr><td>By                                                            </td><td>Character </td></tr>\n",
       "\t<tr><td><span style=white-space:pre-wrap>Jonathan Glassner &amp; Brad Wright                               </span></td><td><span style=white-space:pre-wrap>Script    </span></td></tr>\n",
       "\t<tr><td>The opening scene starts in the gateroom. The gate is covered </td><td>Directions</td></tr>\n",
       "\t<tr><td>and in a corner of the room a group of four military personnel</td><td>Directions</td></tr>\n",
       "\t<tr><td>are playing a game of cards.                                  </td><td>Directions</td></tr>\n",
       "\t<tr><td>AIRMAN                                                        </td><td>Character </td></tr>\n",
       "\t<tr><td>Oh, man, this hand's as lousy as this                         </td><td>Script    </td></tr>\n",
       "\t<tr><td>detail. All right, everybody in or out.                       </td><td>Script    </td></tr>\n",
       "\t<tr><td>One of the personnel deals out some cards.                    </td><td>Directions</td></tr>\n",
       "</tbody>\n",
       "</table>\n"
      ],
      "text/latex": [
       "A tibble: 12 × 2\n",
       "\\begin{tabular}{ll}\n",
       " content & text\\_type\\\\\n",
       " <chr> & <chr>\\\\\n",
       "\\hline\n",
       "\t STARGATE SG1                                                   & Character \\\\\n",
       "\t Episode 101                                                    & Character \\\\\n",
       "\t \"CHILDREN OF THE GODS\"                                         & Script    \\\\\n",
       "\t By                                                             & Character \\\\\n",
       "\t Jonathan Glassner \\& Brad Wright                                & Script    \\\\\n",
       "\t The opening scene starts in the gateroom. The gate is covered  & Directions\\\\\n",
       "\t and in a corner of the room a group of four military personnel & Directions\\\\\n",
       "\t are playing a game of cards.                                   & Directions\\\\\n",
       "\t AIRMAN                                                         & Character \\\\\n",
       "\t Oh, man, this hand's as lousy as this                          & Script    \\\\\n",
       "\t detail. All right, everybody in or out.                        & Script    \\\\\n",
       "\t One of the personnel deals out some cards.                     & Directions\\\\\n",
       "\\end{tabular}\n"
      ],
      "text/markdown": [
       "\n",
       "A tibble: 12 × 2\n",
       "\n",
       "| content &lt;chr&gt; | text_type &lt;chr&gt; |\n",
       "|---|---|\n",
       "| STARGATE SG1                                                   | Character  |\n",
       "| Episode 101                                                    | Character  |\n",
       "| \"CHILDREN OF THE GODS\"                                         | Script     |\n",
       "| By                                                             | Character  |\n",
       "| Jonathan Glassner &amp; Brad Wright                                | Script     |\n",
       "| The opening scene starts in the gateroom. The gate is covered  | Directions |\n",
       "| and in a corner of the room a group of four military personnel | Directions |\n",
       "| are playing a game of cards.                                   | Directions |\n",
       "| AIRMAN                                                         | Character  |\n",
       "| Oh, man, this hand's as lousy as this                          | Script     |\n",
       "| detail. All right, everybody in or out.                        | Script     |\n",
       "| One of the personnel deals out some cards.                     | Directions |\n",
       "\n"
      ],
      "text/plain": [
       "   content                                                        text_type \n",
       "1  STARGATE SG1                                                   Character \n",
       "2  Episode 101                                                    Character \n",
       "3  \"CHILDREN OF THE GODS\"                                         Script    \n",
       "4  By                                                             Character \n",
       "5  Jonathan Glassner & Brad Wright                                Script    \n",
       "6  The opening scene starts in the gateroom. The gate is covered  Directions\n",
       "7  and in a corner of the room a group of four military personnel Directions\n",
       "8  are playing a game of cards.                                   Directions\n",
       "9  AIRMAN                                                         Character \n",
       "10 Oh, man, this hand's as lousy as this                          Script    \n",
       "11 detail. All right, everybody in or out.                        Script    \n",
       "12 One of the personnel deals out some cards.                     Directions"
      ]
     },
     "metadata": {},
     "output_type": "display_data"
    }
   ],
   "source": [
    "ep <-\n",
    "  mutate(ep, content = trim(content)) %>%\n",
    "  subset(content != \"\")\n",
    "head(ep, 12)"
   ]
  },
  {
   "cell_type": "markdown",
   "metadata": {
    "papermill": {
     "duration": 0.034436,
     "end_time": "2021-02-22T21:58:20.436554",
     "exception": false,
     "start_time": "2021-02-22T21:58:20.402118",
     "status": "completed"
    },
    "tags": []
   },
   "source": [
    "<a id=\"section-five\"></a>\n",
    "# Episode Information Extraction\n",
    "\n",
    "The top 5 rows now contain information I wish to extract prior to deletion. In this step I assign these to variables."
   ]
  },
  {
   "cell_type": "code",
   "execution_count": 7,
   "metadata": {
    "execution": {
     "iopub.execute_input": "2021-02-22T21:58:20.518422Z",
     "iopub.status.busy": "2021-02-22T21:58:20.516926Z",
     "iopub.status.idle": "2021-02-22T21:58:20.549063Z",
     "shell.execute_reply": "2021-02-22T21:58:20.548020Z"
    },
    "papermill": {
     "duration": 0.078184,
     "end_time": "2021-02-22T21:58:20.549210",
     "exception": false,
     "start_time": "2021-02-22T21:58:20.471026",
     "status": "completed"
    },
    "tags": []
   },
   "outputs": [],
   "source": [
    "# Extract the episode name and remove alphanumerics excluding hyphen\n",
    "episode_name <-\n",
    "  ep[3, 1] %>%\n",
    "  pull %>%\n",
    "  trim %>%\n",
    "  str_replace_all(\"[^[:alnum:]'-]\", \" \")\n",
    "# Extract the episode writer's name\n",
    "episode_writer <-\n",
    "  ep[5, 1] %>%\n",
    "  pull %>%\n",
    "  trim\n",
    "# Extract the episode number\n",
    "episode_number <-\n",
    "  ep[2, 1] %>%\n",
    "  pull %>%\n",
    "  trim %>%\n",
    "  substr(9, 9)\n",
    "# Extract the season number\n",
    "season_number <-\n",
    "  ep[2, 1] %>%\n",
    "  pull %>%\n",
    "  trim %>%\n",
    "  substr(10, 11)"
   ]
  },
  {
   "cell_type": "markdown",
   "metadata": {
    "papermill": {
     "duration": 0.034432,
     "end_time": "2021-02-22T21:58:20.618118",
     "exception": false,
     "start_time": "2021-02-22T21:58:20.583686",
     "status": "completed"
    },
    "tags": []
   },
   "source": [
    "<a id=\"section-six\"></a>\n",
    "# Add Episode Information as Seperate Fields \n",
    "\n",
    "Now I have extracted this data from the top rows, I add them as columns and finally remove the top 5 rows leaving only dialogue, directions, or character designations."
   ]
  },
  {
   "cell_type": "code",
   "execution_count": 8,
   "metadata": {
    "_kg_hide-input": false,
    "execution": {
     "iopub.execute_input": "2021-02-22T21:58:20.692012Z",
     "iopub.status.busy": "2021-02-22T21:58:20.690647Z",
     "iopub.status.idle": "2021-02-22T21:58:20.733342Z",
     "shell.execute_reply": "2021-02-22T21:58:20.732134Z"
    },
    "papermill": {
     "duration": 0.080942,
     "end_time": "2021-02-22T21:58:20.733525",
     "exception": false,
     "start_time": "2021-02-22T21:58:20.652583",
     "status": "completed"
    },
    "tags": []
   },
   "outputs": [
    {
     "data": {
      "text/html": [
       "<table class=\"dataframe\">\n",
       "<caption>A tibble: 6 × 6</caption>\n",
       "<thead>\n",
       "\t<tr><th scope=col>content</th><th scope=col>text_type</th><th scope=col>season_number</th><th scope=col>episode_number</th><th scope=col>episode_name</th><th scope=col>episode_writer</th></tr>\n",
       "\t<tr><th scope=col>&lt;chr&gt;</th><th scope=col>&lt;chr&gt;</th><th scope=col>&lt;chr&gt;</th><th scope=col>&lt;chr&gt;</th><th scope=col>&lt;chr&gt;</th><th scope=col>&lt;chr&gt;</th></tr>\n",
       "</thead>\n",
       "<tbody>\n",
       "\t<tr><td>The opening scene starts in the gateroom. The gate is covered </td><td>Directions</td><td>01</td><td>1</td><td> CHILDREN OF THE GODS </td><td>Jonathan Glassner &amp; Brad Wright</td></tr>\n",
       "\t<tr><td>and in a corner of the room a group of four military personnel</td><td>Directions</td><td>01</td><td>1</td><td> CHILDREN OF THE GODS </td><td>Jonathan Glassner &amp; Brad Wright</td></tr>\n",
       "\t<tr><td><span style=white-space:pre-wrap>are playing a game of cards.                                  </span></td><td>Directions</td><td>01</td><td>1</td><td> CHILDREN OF THE GODS </td><td>Jonathan Glassner &amp; Brad Wright</td></tr>\n",
       "\t<tr><td><span style=white-space:pre-wrap>AIRMAN                                                        </span></td><td>Character </td><td>01</td><td>1</td><td> CHILDREN OF THE GODS </td><td>Jonathan Glassner &amp; Brad Wright</td></tr>\n",
       "\t<tr><td><span style=white-space:pre-wrap>Oh, man, this hand's as lousy as this                         </span></td><td><span style=white-space:pre-wrap>Script    </span></td><td>01</td><td>1</td><td> CHILDREN OF THE GODS </td><td>Jonathan Glassner &amp; Brad Wright</td></tr>\n",
       "\t<tr><td><span style=white-space:pre-wrap>detail. All right, everybody in or out.                       </span></td><td><span style=white-space:pre-wrap>Script    </span></td><td>01</td><td>1</td><td> CHILDREN OF THE GODS </td><td>Jonathan Glassner &amp; Brad Wright</td></tr>\n",
       "</tbody>\n",
       "</table>\n"
      ],
      "text/latex": [
       "A tibble: 6 × 6\n",
       "\\begin{tabular}{llllll}\n",
       " content & text\\_type & season\\_number & episode\\_number & episode\\_name & episode\\_writer\\\\\n",
       " <chr> & <chr> & <chr> & <chr> & <chr> & <chr>\\\\\n",
       "\\hline\n",
       "\t The opening scene starts in the gateroom. The gate is covered  & Directions & 01 & 1 &  CHILDREN OF THE GODS  & Jonathan Glassner \\& Brad Wright\\\\\n",
       "\t and in a corner of the room a group of four military personnel & Directions & 01 & 1 &  CHILDREN OF THE GODS  & Jonathan Glassner \\& Brad Wright\\\\\n",
       "\t are playing a game of cards.                                   & Directions & 01 & 1 &  CHILDREN OF THE GODS  & Jonathan Glassner \\& Brad Wright\\\\\n",
       "\t AIRMAN                                                         & Character  & 01 & 1 &  CHILDREN OF THE GODS  & Jonathan Glassner \\& Brad Wright\\\\\n",
       "\t Oh, man, this hand's as lousy as this                          & Script     & 01 & 1 &  CHILDREN OF THE GODS  & Jonathan Glassner \\& Brad Wright\\\\\n",
       "\t detail. All right, everybody in or out.                        & Script     & 01 & 1 &  CHILDREN OF THE GODS  & Jonathan Glassner \\& Brad Wright\\\\\n",
       "\\end{tabular}\n"
      ],
      "text/markdown": [
       "\n",
       "A tibble: 6 × 6\n",
       "\n",
       "| content &lt;chr&gt; | text_type &lt;chr&gt; | season_number &lt;chr&gt; | episode_number &lt;chr&gt; | episode_name &lt;chr&gt; | episode_writer &lt;chr&gt; |\n",
       "|---|---|---|---|---|---|\n",
       "| The opening scene starts in the gateroom. The gate is covered  | Directions | 01 | 1 |  CHILDREN OF THE GODS  | Jonathan Glassner &amp; Brad Wright |\n",
       "| and in a corner of the room a group of four military personnel | Directions | 01 | 1 |  CHILDREN OF THE GODS  | Jonathan Glassner &amp; Brad Wright |\n",
       "| are playing a game of cards.                                   | Directions | 01 | 1 |  CHILDREN OF THE GODS  | Jonathan Glassner &amp; Brad Wright |\n",
       "| AIRMAN                                                         | Character  | 01 | 1 |  CHILDREN OF THE GODS  | Jonathan Glassner &amp; Brad Wright |\n",
       "| Oh, man, this hand's as lousy as this                          | Script     | 01 | 1 |  CHILDREN OF THE GODS  | Jonathan Glassner &amp; Brad Wright |\n",
       "| detail. All right, everybody in or out.                        | Script     | 01 | 1 |  CHILDREN OF THE GODS  | Jonathan Glassner &amp; Brad Wright |\n",
       "\n"
      ],
      "text/plain": [
       "  content                                                        text_type \n",
       "1 The opening scene starts in the gateroom. The gate is covered  Directions\n",
       "2 and in a corner of the room a group of four military personnel Directions\n",
       "3 are playing a game of cards.                                   Directions\n",
       "4 AIRMAN                                                         Character \n",
       "5 Oh, man, this hand's as lousy as this                          Script    \n",
       "6 detail. All right, everybody in or out.                        Script    \n",
       "  season_number episode_number episode_name          \n",
       "1 01            1               CHILDREN OF THE GODS \n",
       "2 01            1               CHILDREN OF THE GODS \n",
       "3 01            1               CHILDREN OF THE GODS \n",
       "4 01            1               CHILDREN OF THE GODS \n",
       "5 01            1               CHILDREN OF THE GODS \n",
       "6 01            1               CHILDREN OF THE GODS \n",
       "  episode_writer                 \n",
       "1 Jonathan Glassner & Brad Wright\n",
       "2 Jonathan Glassner & Brad Wright\n",
       "3 Jonathan Glassner & Brad Wright\n",
       "4 Jonathan Glassner & Brad Wright\n",
       "5 Jonathan Glassner & Brad Wright\n",
       "6 Jonathan Glassner & Brad Wright"
      ]
     },
     "metadata": {},
     "output_type": "display_data"
    }
   ],
   "source": [
    "# Add the extracted episode information as new columns\n",
    "ep <-\n",
    "  mutate(\n",
    "    ep,\n",
    "    season_number = season_number,\n",
    "    episode_number = episode_number,\n",
    "    episode_name = episode_name,\n",
    "    episode_writer = episode_writer\n",
    "  ) %>% tail(-5)\n",
    "# Preview the data with the episode information added\n",
    "head(ep)"
   ]
  },
  {
   "cell_type": "markdown",
   "metadata": {
    "papermill": {
     "duration": 0.035492,
     "end_time": "2021-02-22T21:58:20.804224",
     "exception": false,
     "start_time": "2021-02-22T21:58:20.768732",
     "status": "completed"
    },
    "tags": []
   },
   "source": [
    "<a id=\"section-seven\"></a>\n",
    "# Add Character Field\n",
    "\n",
    "The data is starting to become cleaner. Importantly, where I have identified the script I will use this information to create a new field called \"character\". We do this by transfering over the character name from the content field if text_type == Character, and if text_type == Directions we simply transfer this fact over as well. Instead of carrying script I reassign it as NA."
   ]
  },
  {
   "cell_type": "code",
   "execution_count": 9,
   "metadata": {
    "_kg_hide-input": false,
    "execution": {
     "iopub.execute_input": "2021-02-22T21:58:20.881466Z",
     "iopub.status.busy": "2021-02-22T21:58:20.880023Z",
     "iopub.status.idle": "2021-02-22T21:58:20.911762Z",
     "shell.execute_reply": "2021-02-22T21:58:20.910462Z"
    },
    "papermill": {
     "duration": 0.071774,
     "end_time": "2021-02-22T21:58:20.911918",
     "exception": false,
     "start_time": "2021-02-22T21:58:20.840144",
     "status": "completed"
    },
    "tags": []
   },
   "outputs": [
    {
     "data": {
      "text/html": [
       "<table class=\"dataframe\">\n",
       "<caption>A tibble: 6 × 7</caption>\n",
       "<thead>\n",
       "\t<tr><th scope=col>content</th><th scope=col>text_type</th><th scope=col>season_number</th><th scope=col>episode_number</th><th scope=col>episode_name</th><th scope=col>episode_writer</th><th scope=col>character</th></tr>\n",
       "\t<tr><th scope=col>&lt;chr&gt;</th><th scope=col>&lt;chr&gt;</th><th scope=col>&lt;chr&gt;</th><th scope=col>&lt;chr&gt;</th><th scope=col>&lt;chr&gt;</th><th scope=col>&lt;chr&gt;</th><th scope=col>&lt;chr&gt;</th></tr>\n",
       "</thead>\n",
       "<tbody>\n",
       "\t<tr><td>The opening scene starts in the gateroom. The gate is covered </td><td>Directions</td><td>01</td><td>1</td><td> CHILDREN OF THE GODS </td><td>Jonathan Glassner &amp; Brad Wright</td><td>Directions</td></tr>\n",
       "\t<tr><td>and in a corner of the room a group of four military personnel</td><td>Directions</td><td>01</td><td>1</td><td> CHILDREN OF THE GODS </td><td>Jonathan Glassner &amp; Brad Wright</td><td>Directions</td></tr>\n",
       "\t<tr><td><span style=white-space:pre-wrap>are playing a game of cards.                                  </span></td><td>Directions</td><td>01</td><td>1</td><td> CHILDREN OF THE GODS </td><td>Jonathan Glassner &amp; Brad Wright</td><td>Directions</td></tr>\n",
       "\t<tr><td><span style=white-space:pre-wrap>AIRMAN                                                        </span></td><td>Character </td><td>01</td><td>1</td><td> CHILDREN OF THE GODS </td><td>Jonathan Glassner &amp; Brad Wright</td><td><span style=white-space:pre-wrap>AIRMAN    </span></td></tr>\n",
       "\t<tr><td><span style=white-space:pre-wrap>Oh, man, this hand's as lousy as this                         </span></td><td><span style=white-space:pre-wrap>Script    </span></td><td>01</td><td>1</td><td> CHILDREN OF THE GODS </td><td>Jonathan Glassner &amp; Brad Wright</td><td><span style=white-space:pre-wrap>NA        </span></td></tr>\n",
       "\t<tr><td><span style=white-space:pre-wrap>detail. All right, everybody in or out.                       </span></td><td><span style=white-space:pre-wrap>Script    </span></td><td>01</td><td>1</td><td> CHILDREN OF THE GODS </td><td>Jonathan Glassner &amp; Brad Wright</td><td><span style=white-space:pre-wrap>NA        </span></td></tr>\n",
       "</tbody>\n",
       "</table>\n"
      ],
      "text/latex": [
       "A tibble: 6 × 7\n",
       "\\begin{tabular}{lllllll}\n",
       " content & text\\_type & season\\_number & episode\\_number & episode\\_name & episode\\_writer & character\\\\\n",
       " <chr> & <chr> & <chr> & <chr> & <chr> & <chr> & <chr>\\\\\n",
       "\\hline\n",
       "\t The opening scene starts in the gateroom. The gate is covered  & Directions & 01 & 1 &  CHILDREN OF THE GODS  & Jonathan Glassner \\& Brad Wright & Directions\\\\\n",
       "\t and in a corner of the room a group of four military personnel & Directions & 01 & 1 &  CHILDREN OF THE GODS  & Jonathan Glassner \\& Brad Wright & Directions\\\\\n",
       "\t are playing a game of cards.                                   & Directions & 01 & 1 &  CHILDREN OF THE GODS  & Jonathan Glassner \\& Brad Wright & Directions\\\\\n",
       "\t AIRMAN                                                         & Character  & 01 & 1 &  CHILDREN OF THE GODS  & Jonathan Glassner \\& Brad Wright & AIRMAN    \\\\\n",
       "\t Oh, man, this hand's as lousy as this                          & Script     & 01 & 1 &  CHILDREN OF THE GODS  & Jonathan Glassner \\& Brad Wright & NA        \\\\\n",
       "\t detail. All right, everybody in or out.                        & Script     & 01 & 1 &  CHILDREN OF THE GODS  & Jonathan Glassner \\& Brad Wright & NA        \\\\\n",
       "\\end{tabular}\n"
      ],
      "text/markdown": [
       "\n",
       "A tibble: 6 × 7\n",
       "\n",
       "| content &lt;chr&gt; | text_type &lt;chr&gt; | season_number &lt;chr&gt; | episode_number &lt;chr&gt; | episode_name &lt;chr&gt; | episode_writer &lt;chr&gt; | character &lt;chr&gt; |\n",
       "|---|---|---|---|---|---|---|\n",
       "| The opening scene starts in the gateroom. The gate is covered  | Directions | 01 | 1 |  CHILDREN OF THE GODS  | Jonathan Glassner &amp; Brad Wright | Directions |\n",
       "| and in a corner of the room a group of four military personnel | Directions | 01 | 1 |  CHILDREN OF THE GODS  | Jonathan Glassner &amp; Brad Wright | Directions |\n",
       "| are playing a game of cards.                                   | Directions | 01 | 1 |  CHILDREN OF THE GODS  | Jonathan Glassner &amp; Brad Wright | Directions |\n",
       "| AIRMAN                                                         | Character  | 01 | 1 |  CHILDREN OF THE GODS  | Jonathan Glassner &amp; Brad Wright | AIRMAN     |\n",
       "| Oh, man, this hand's as lousy as this                          | Script     | 01 | 1 |  CHILDREN OF THE GODS  | Jonathan Glassner &amp; Brad Wright | NA         |\n",
       "| detail. All right, everybody in or out.                        | Script     | 01 | 1 |  CHILDREN OF THE GODS  | Jonathan Glassner &amp; Brad Wright | NA         |\n",
       "\n"
      ],
      "text/plain": [
       "  content                                                        text_type \n",
       "1 The opening scene starts in the gateroom. The gate is covered  Directions\n",
       "2 and in a corner of the room a group of four military personnel Directions\n",
       "3 are playing a game of cards.                                   Directions\n",
       "4 AIRMAN                                                         Character \n",
       "5 Oh, man, this hand's as lousy as this                          Script    \n",
       "6 detail. All right, everybody in or out.                        Script    \n",
       "  season_number episode_number episode_name          \n",
       "1 01            1               CHILDREN OF THE GODS \n",
       "2 01            1               CHILDREN OF THE GODS \n",
       "3 01            1               CHILDREN OF THE GODS \n",
       "4 01            1               CHILDREN OF THE GODS \n",
       "5 01            1               CHILDREN OF THE GODS \n",
       "6 01            1               CHILDREN OF THE GODS \n",
       "  episode_writer                  character \n",
       "1 Jonathan Glassner & Brad Wright Directions\n",
       "2 Jonathan Glassner & Brad Wright Directions\n",
       "3 Jonathan Glassner & Brad Wright Directions\n",
       "4 Jonathan Glassner & Brad Wright AIRMAN    \n",
       "5 Jonathan Glassner & Brad Wright NA        \n",
       "6 Jonathan Glassner & Brad Wright NA        "
      ]
     },
     "metadata": {},
     "output_type": "display_data"
    }
   ],
   "source": [
    "# Extract the character name from the content column and create a new column called character\n",
    "ep <-\n",
    "  mutate(\n",
    "    ep,\n",
    "    character = case_when(\n",
    "      str_detect(text_type, \"Character\") == TRUE ~ content,\n",
    "      str_detect(text_type, \"Direction\") == TRUE ~ \"Directions\",\n",
    "      TRUE ~ NA_character_\n",
    "    )\n",
    "  )\n",
    "# Preview the data with the character information\n",
    "head(ep)"
   ]
  },
  {
   "cell_type": "markdown",
   "metadata": {
    "papermill": {
     "duration": 0.03635,
     "end_time": "2021-02-22T21:58:20.984834",
     "exception": false,
     "start_time": "2021-02-22T21:58:20.948484",
     "status": "completed"
    },
    "tags": []
   },
   "source": [
    "<a id=\"section-eight\"></a>\n",
    "# Fill Down Character Designations to Their Associated Dialogue\n",
    "\n",
    "Now I am able to rely on these NA fields to represent the dialogue belonging to the above listed character. I then fill this down for all rows in the table."
   ]
  },
  {
   "cell_type": "code",
   "execution_count": 10,
   "metadata": {
    "_kg_hide-input": false,
    "execution": {
     "iopub.execute_input": "2021-02-22T21:58:21.062405Z",
     "iopub.status.busy": "2021-02-22T21:58:21.061124Z",
     "iopub.status.idle": "2021-02-22T21:58:21.099478Z",
     "shell.execute_reply": "2021-02-22T21:58:21.098165Z"
    },
    "papermill": {
     "duration": 0.078396,
     "end_time": "2021-02-22T21:58:21.099623",
     "exception": false,
     "start_time": "2021-02-22T21:58:21.021227",
     "status": "completed"
    },
    "tags": []
   },
   "outputs": [
    {
     "data": {
      "text/html": [
       "<table class=\"dataframe\">\n",
       "<caption>A tibble: 6 × 7</caption>\n",
       "<thead>\n",
       "\t<tr><th scope=col>content</th><th scope=col>text_type</th><th scope=col>season_number</th><th scope=col>episode_number</th><th scope=col>episode_name</th><th scope=col>episode_writer</th><th scope=col>character</th></tr>\n",
       "\t<tr><th scope=col>&lt;chr&gt;</th><th scope=col>&lt;chr&gt;</th><th scope=col>&lt;chr&gt;</th><th scope=col>&lt;chr&gt;</th><th scope=col>&lt;chr&gt;</th><th scope=col>&lt;chr&gt;</th><th scope=col>&lt;chr&gt;</th></tr>\n",
       "</thead>\n",
       "<tbody>\n",
       "\t<tr><td>The opening scene starts in the gateroom. The gate is covered </td><td>Directions</td><td>01</td><td>1</td><td> CHILDREN OF THE GODS </td><td>Jonathan Glassner &amp; Brad Wright</td><td>Directions</td></tr>\n",
       "\t<tr><td>and in a corner of the room a group of four military personnel</td><td>Directions</td><td>01</td><td>1</td><td> CHILDREN OF THE GODS </td><td>Jonathan Glassner &amp; Brad Wright</td><td>Directions</td></tr>\n",
       "\t<tr><td><span style=white-space:pre-wrap>are playing a game of cards.                                  </span></td><td>Directions</td><td>01</td><td>1</td><td> CHILDREN OF THE GODS </td><td>Jonathan Glassner &amp; Brad Wright</td><td>Directions</td></tr>\n",
       "\t<tr><td><span style=white-space:pre-wrap>AIRMAN                                                        </span></td><td>Character </td><td>01</td><td>1</td><td> CHILDREN OF THE GODS </td><td>Jonathan Glassner &amp; Brad Wright</td><td><span style=white-space:pre-wrap>AIRMAN    </span></td></tr>\n",
       "\t<tr><td><span style=white-space:pre-wrap>Oh, man, this hand's as lousy as this                         </span></td><td><span style=white-space:pre-wrap>Script    </span></td><td>01</td><td>1</td><td> CHILDREN OF THE GODS </td><td>Jonathan Glassner &amp; Brad Wright</td><td><span style=white-space:pre-wrap>AIRMAN    </span></td></tr>\n",
       "\t<tr><td><span style=white-space:pre-wrap>detail. All right, everybody in or out.                       </span></td><td><span style=white-space:pre-wrap>Script    </span></td><td>01</td><td>1</td><td> CHILDREN OF THE GODS </td><td>Jonathan Glassner &amp; Brad Wright</td><td><span style=white-space:pre-wrap>AIRMAN    </span></td></tr>\n",
       "</tbody>\n",
       "</table>\n"
      ],
      "text/latex": [
       "A tibble: 6 × 7\n",
       "\\begin{tabular}{lllllll}\n",
       " content & text\\_type & season\\_number & episode\\_number & episode\\_name & episode\\_writer & character\\\\\n",
       " <chr> & <chr> & <chr> & <chr> & <chr> & <chr> & <chr>\\\\\n",
       "\\hline\n",
       "\t The opening scene starts in the gateroom. The gate is covered  & Directions & 01 & 1 &  CHILDREN OF THE GODS  & Jonathan Glassner \\& Brad Wright & Directions\\\\\n",
       "\t and in a corner of the room a group of four military personnel & Directions & 01 & 1 &  CHILDREN OF THE GODS  & Jonathan Glassner \\& Brad Wright & Directions\\\\\n",
       "\t are playing a game of cards.                                   & Directions & 01 & 1 &  CHILDREN OF THE GODS  & Jonathan Glassner \\& Brad Wright & Directions\\\\\n",
       "\t AIRMAN                                                         & Character  & 01 & 1 &  CHILDREN OF THE GODS  & Jonathan Glassner \\& Brad Wright & AIRMAN    \\\\\n",
       "\t Oh, man, this hand's as lousy as this                          & Script     & 01 & 1 &  CHILDREN OF THE GODS  & Jonathan Glassner \\& Brad Wright & AIRMAN    \\\\\n",
       "\t detail. All right, everybody in or out.                        & Script     & 01 & 1 &  CHILDREN OF THE GODS  & Jonathan Glassner \\& Brad Wright & AIRMAN    \\\\\n",
       "\\end{tabular}\n"
      ],
      "text/markdown": [
       "\n",
       "A tibble: 6 × 7\n",
       "\n",
       "| content &lt;chr&gt; | text_type &lt;chr&gt; | season_number &lt;chr&gt; | episode_number &lt;chr&gt; | episode_name &lt;chr&gt; | episode_writer &lt;chr&gt; | character &lt;chr&gt; |\n",
       "|---|---|---|---|---|---|---|\n",
       "| The opening scene starts in the gateroom. The gate is covered  | Directions | 01 | 1 |  CHILDREN OF THE GODS  | Jonathan Glassner &amp; Brad Wright | Directions |\n",
       "| and in a corner of the room a group of four military personnel | Directions | 01 | 1 |  CHILDREN OF THE GODS  | Jonathan Glassner &amp; Brad Wright | Directions |\n",
       "| are playing a game of cards.                                   | Directions | 01 | 1 |  CHILDREN OF THE GODS  | Jonathan Glassner &amp; Brad Wright | Directions |\n",
       "| AIRMAN                                                         | Character  | 01 | 1 |  CHILDREN OF THE GODS  | Jonathan Glassner &amp; Brad Wright | AIRMAN     |\n",
       "| Oh, man, this hand's as lousy as this                          | Script     | 01 | 1 |  CHILDREN OF THE GODS  | Jonathan Glassner &amp; Brad Wright | AIRMAN     |\n",
       "| detail. All right, everybody in or out.                        | Script     | 01 | 1 |  CHILDREN OF THE GODS  | Jonathan Glassner &amp; Brad Wright | AIRMAN     |\n",
       "\n"
      ],
      "text/plain": [
       "  content                                                        text_type \n",
       "1 The opening scene starts in the gateroom. The gate is covered  Directions\n",
       "2 and in a corner of the room a group of four military personnel Directions\n",
       "3 are playing a game of cards.                                   Directions\n",
       "4 AIRMAN                                                         Character \n",
       "5 Oh, man, this hand's as lousy as this                          Script    \n",
       "6 detail. All right, everybody in or out.                        Script    \n",
       "  season_number episode_number episode_name          \n",
       "1 01            1               CHILDREN OF THE GODS \n",
       "2 01            1               CHILDREN OF THE GODS \n",
       "3 01            1               CHILDREN OF THE GODS \n",
       "4 01            1               CHILDREN OF THE GODS \n",
       "5 01            1               CHILDREN OF THE GODS \n",
       "6 01            1               CHILDREN OF THE GODS \n",
       "  episode_writer                  character \n",
       "1 Jonathan Glassner & Brad Wright Directions\n",
       "2 Jonathan Glassner & Brad Wright Directions\n",
       "3 Jonathan Glassner & Brad Wright Directions\n",
       "4 Jonathan Glassner & Brad Wright AIRMAN    \n",
       "5 Jonathan Glassner & Brad Wright AIRMAN    \n",
       "6 Jonathan Glassner & Brad Wright AIRMAN    "
      ]
     },
     "metadata": {},
     "output_type": "display_data"
    }
   ],
   "source": [
    "# Fill down the NA fields with the character name from the next filled cell above\n",
    "ep <- \n",
    "  fill(ep, character)\n",
    "# Preview the data with completed character field\n",
    "head(ep)"
   ]
  },
  {
   "cell_type": "markdown",
   "metadata": {
    "papermill": {
     "duration": 0.037229,
     "end_time": "2021-02-22T21:58:21.174169",
     "exception": false,
     "start_time": "2021-02-22T21:58:21.136940",
     "status": "completed"
    },
    "tags": []
   },
   "source": [
    "<a id=\"section-nine\"></a>\n",
    "# Create Line Index\n",
    "\n",
    "The next step is to consolidate each line of dialogue and direction into a single row of data. To do this I first assign each character designation/line/dialogue an index with the intention of rolling up the content field based on this index ie everything beloning to a unique index number will be concatenated together."
   ]
  },
  {
   "cell_type": "code",
   "execution_count": 11,
   "metadata": {
    "_kg_hide-input": false,
    "execution": {
     "iopub.execute_input": "2021-02-22T21:58:21.253456Z",
     "iopub.status.busy": "2021-02-22T21:58:21.252258Z",
     "iopub.status.idle": "2021-02-22T21:58:21.281747Z",
     "shell.execute_reply": "2021-02-22T21:58:21.280723Z"
    },
    "papermill": {
     "duration": 0.070352,
     "end_time": "2021-02-22T21:58:21.281891",
     "exception": false,
     "start_time": "2021-02-22T21:58:21.211539",
     "status": "completed"
    },
    "tags": []
   },
   "outputs": [
    {
     "data": {
      "text/html": [
       "<table class=\"dataframe\">\n",
       "<caption>A tibble: 6 × 8</caption>\n",
       "<thead>\n",
       "\t<tr><th scope=col>content</th><th scope=col>text_type</th><th scope=col>season_number</th><th scope=col>episode_number</th><th scope=col>episode_name</th><th scope=col>episode_writer</th><th scope=col>character</th><th scope=col>line_index</th></tr>\n",
       "\t<tr><th scope=col>&lt;chr&gt;</th><th scope=col>&lt;chr&gt;</th><th scope=col>&lt;chr&gt;</th><th scope=col>&lt;chr&gt;</th><th scope=col>&lt;chr&gt;</th><th scope=col>&lt;chr&gt;</th><th scope=col>&lt;chr&gt;</th><th scope=col>&lt;dbl&gt;</th></tr>\n",
       "</thead>\n",
       "<tbody>\n",
       "\t<tr><td>The opening scene starts in the gateroom. The gate is covered </td><td>Directions</td><td>01</td><td>1</td><td> CHILDREN OF THE GODS </td><td>Jonathan Glassner &amp; Brad Wright</td><td>Directions</td><td>1</td></tr>\n",
       "\t<tr><td>and in a corner of the room a group of four military personnel</td><td>Directions</td><td>01</td><td>1</td><td> CHILDREN OF THE GODS </td><td>Jonathan Glassner &amp; Brad Wright</td><td>Directions</td><td>1</td></tr>\n",
       "\t<tr><td><span style=white-space:pre-wrap>are playing a game of cards.                                  </span></td><td>Directions</td><td>01</td><td>1</td><td> CHILDREN OF THE GODS </td><td>Jonathan Glassner &amp; Brad Wright</td><td>Directions</td><td>1</td></tr>\n",
       "\t<tr><td><span style=white-space:pre-wrap>AIRMAN                                                        </span></td><td>Character </td><td>01</td><td>1</td><td> CHILDREN OF THE GODS </td><td>Jonathan Glassner &amp; Brad Wright</td><td><span style=white-space:pre-wrap>AIRMAN    </span></td><td>2</td></tr>\n",
       "\t<tr><td><span style=white-space:pre-wrap>Oh, man, this hand's as lousy as this                         </span></td><td><span style=white-space:pre-wrap>Script    </span></td><td>01</td><td>1</td><td> CHILDREN OF THE GODS </td><td>Jonathan Glassner &amp; Brad Wright</td><td><span style=white-space:pre-wrap>AIRMAN    </span></td><td>3</td></tr>\n",
       "\t<tr><td><span style=white-space:pre-wrap>detail. All right, everybody in or out.                       </span></td><td><span style=white-space:pre-wrap>Script    </span></td><td>01</td><td>1</td><td> CHILDREN OF THE GODS </td><td>Jonathan Glassner &amp; Brad Wright</td><td><span style=white-space:pre-wrap>AIRMAN    </span></td><td>3</td></tr>\n",
       "</tbody>\n",
       "</table>\n"
      ],
      "text/latex": [
       "A tibble: 6 × 8\n",
       "\\begin{tabular}{llllllll}\n",
       " content & text\\_type & season\\_number & episode\\_number & episode\\_name & episode\\_writer & character & line\\_index\\\\\n",
       " <chr> & <chr> & <chr> & <chr> & <chr> & <chr> & <chr> & <dbl>\\\\\n",
       "\\hline\n",
       "\t The opening scene starts in the gateroom. The gate is covered  & Directions & 01 & 1 &  CHILDREN OF THE GODS  & Jonathan Glassner \\& Brad Wright & Directions & 1\\\\\n",
       "\t and in a corner of the room a group of four military personnel & Directions & 01 & 1 &  CHILDREN OF THE GODS  & Jonathan Glassner \\& Brad Wright & Directions & 1\\\\\n",
       "\t are playing a game of cards.                                   & Directions & 01 & 1 &  CHILDREN OF THE GODS  & Jonathan Glassner \\& Brad Wright & Directions & 1\\\\\n",
       "\t AIRMAN                                                         & Character  & 01 & 1 &  CHILDREN OF THE GODS  & Jonathan Glassner \\& Brad Wright & AIRMAN     & 2\\\\\n",
       "\t Oh, man, this hand's as lousy as this                          & Script     & 01 & 1 &  CHILDREN OF THE GODS  & Jonathan Glassner \\& Brad Wright & AIRMAN     & 3\\\\\n",
       "\t detail. All right, everybody in or out.                        & Script     & 01 & 1 &  CHILDREN OF THE GODS  & Jonathan Glassner \\& Brad Wright & AIRMAN     & 3\\\\\n",
       "\\end{tabular}\n"
      ],
      "text/markdown": [
       "\n",
       "A tibble: 6 × 8\n",
       "\n",
       "| content &lt;chr&gt; | text_type &lt;chr&gt; | season_number &lt;chr&gt; | episode_number &lt;chr&gt; | episode_name &lt;chr&gt; | episode_writer &lt;chr&gt; | character &lt;chr&gt; | line_index &lt;dbl&gt; |\n",
       "|---|---|---|---|---|---|---|---|\n",
       "| The opening scene starts in the gateroom. The gate is covered  | Directions | 01 | 1 |  CHILDREN OF THE GODS  | Jonathan Glassner &amp; Brad Wright | Directions | 1 |\n",
       "| and in a corner of the room a group of four military personnel | Directions | 01 | 1 |  CHILDREN OF THE GODS  | Jonathan Glassner &amp; Brad Wright | Directions | 1 |\n",
       "| are playing a game of cards.                                   | Directions | 01 | 1 |  CHILDREN OF THE GODS  | Jonathan Glassner &amp; Brad Wright | Directions | 1 |\n",
       "| AIRMAN                                                         | Character  | 01 | 1 |  CHILDREN OF THE GODS  | Jonathan Glassner &amp; Brad Wright | AIRMAN     | 2 |\n",
       "| Oh, man, this hand's as lousy as this                          | Script     | 01 | 1 |  CHILDREN OF THE GODS  | Jonathan Glassner &amp; Brad Wright | AIRMAN     | 3 |\n",
       "| detail. All right, everybody in or out.                        | Script     | 01 | 1 |  CHILDREN OF THE GODS  | Jonathan Glassner &amp; Brad Wright | AIRMAN     | 3 |\n",
       "\n"
      ],
      "text/plain": [
       "  content                                                        text_type \n",
       "1 The opening scene starts in the gateroom. The gate is covered  Directions\n",
       "2 and in a corner of the room a group of four military personnel Directions\n",
       "3 are playing a game of cards.                                   Directions\n",
       "4 AIRMAN                                                         Character \n",
       "5 Oh, man, this hand's as lousy as this                          Script    \n",
       "6 detail. All right, everybody in or out.                        Script    \n",
       "  season_number episode_number episode_name          \n",
       "1 01            1               CHILDREN OF THE GODS \n",
       "2 01            1               CHILDREN OF THE GODS \n",
       "3 01            1               CHILDREN OF THE GODS \n",
       "4 01            1               CHILDREN OF THE GODS \n",
       "5 01            1               CHILDREN OF THE GODS \n",
       "6 01            1               CHILDREN OF THE GODS \n",
       "  episode_writer                  character  line_index\n",
       "1 Jonathan Glassner & Brad Wright Directions 1         \n",
       "2 Jonathan Glassner & Brad Wright Directions 1         \n",
       "3 Jonathan Glassner & Brad Wright Directions 1         \n",
       "4 Jonathan Glassner & Brad Wright AIRMAN     2         \n",
       "5 Jonathan Glassner & Brad Wright AIRMAN     3         \n",
       "6 Jonathan Glassner & Brad Wright AIRMAN     3         "
      ]
     },
     "metadata": {},
     "output_type": "display_data"
    }
   ],
   "source": [
    "# Create a line index column\n",
    "ep <-\n",
    "  mutate(ep, line_index = cumsum(ifelse(\n",
    "    text_type != lag(text_type) | is.na(lag(text_type)), 1, 0\n",
    "  )))\n",
    "# Preview data with line index column added\n",
    "head(ep)"
   ]
  },
  {
   "cell_type": "markdown",
   "metadata": {
    "papermill": {
     "duration": 0.038372,
     "end_time": "2021-02-22T21:58:21.358683",
     "exception": false,
     "start_time": "2021-02-22T21:58:21.320311",
     "status": "completed"
    },
    "tags": []
   },
   "source": [
    "<a id=\"section-ten\"></a>\n",
    "# Consolidate Data Based on Line Index\n",
    "\n",
    "I am able to group by line index now and collapse each row in the content field. I then simply remove duplicates which effectively leaves me with a character's line to a row."
   ]
  },
  {
   "cell_type": "code",
   "execution_count": 12,
   "metadata": {
    "_kg_hide-input": false,
    "execution": {
     "iopub.execute_input": "2021-02-22T21:58:21.448294Z",
     "iopub.status.busy": "2021-02-22T21:58:21.446998Z",
     "iopub.status.idle": "2021-02-22T21:58:21.502936Z",
     "shell.execute_reply": "2021-02-22T21:58:21.501661Z"
    },
    "papermill": {
     "duration": 0.105532,
     "end_time": "2021-02-22T21:58:21.503085",
     "exception": false,
     "start_time": "2021-02-22T21:58:21.397553",
     "status": "completed"
    },
    "tags": []
   },
   "outputs": [
    {
     "data": {
      "text/html": [
       "<table class=\"dataframe\">\n",
       "<caption>A grouped_df: 10 × 8</caption>\n",
       "<thead>\n",
       "\t<tr><th scope=col>content</th><th scope=col>text_type</th><th scope=col>season_number</th><th scope=col>episode_number</th><th scope=col>episode_name</th><th scope=col>episode_writer</th><th scope=col>character</th><th scope=col>line_index</th></tr>\n",
       "\t<tr><th scope=col>&lt;chr&gt;</th><th scope=col>&lt;chr&gt;</th><th scope=col>&lt;chr&gt;</th><th scope=col>&lt;chr&gt;</th><th scope=col>&lt;chr&gt;</th><th scope=col>&lt;chr&gt;</th><th scope=col>&lt;chr&gt;</th><th scope=col>&lt;dbl&gt;</th></tr>\n",
       "</thead>\n",
       "<tbody>\n",
       "\t<tr><td><span style=white-space:pre-wrap>The opening scene starts in the gateroom. The gate is covered and in a corner of the room a group of four military personnel are playing a game of cards.                            </span></td><td>Directions</td><td>01</td><td>1</td><td> CHILDREN OF THE GODS </td><td>Jonathan Glassner &amp; Brad Wright</td><td>Directions</td><td> 1</td></tr>\n",
       "\t<tr><td><span style=white-space:pre-wrap>AIRMAN                                                                                                                                                                               </span></td><td>Character </td><td>01</td><td>1</td><td> CHILDREN OF THE GODS </td><td>Jonathan Glassner &amp; Brad Wright</td><td><span style=white-space:pre-wrap>AIRMAN    </span></td><td> 2</td></tr>\n",
       "\t<tr><td><span style=white-space:pre-wrap>Oh, man, this hand's as lousy as this detail. All right, everybody in or out.                                                                                                        </span></td><td><span style=white-space:pre-wrap>Script    </span></td><td>01</td><td>1</td><td> CHILDREN OF THE GODS </td><td>Jonathan Glassner &amp; Brad Wright</td><td><span style=white-space:pre-wrap>AIRMAN    </span></td><td> 3</td></tr>\n",
       "\t<tr><td><span style=white-space:pre-wrap>One of the personnel deals out some cards.                                                                                                                                           </span></td><td>Directions</td><td>01</td><td>1</td><td> CHILDREN OF THE GODS </td><td>Jonathan Glassner &amp; Brad Wright</td><td>Directions</td><td> 4</td></tr>\n",
       "\t<tr><td><span style=white-space:pre-wrap>AIRMAN                                                                                                                                                                               </span></td><td>Character </td><td>01</td><td>1</td><td> CHILDREN OF THE GODS </td><td>Jonathan Glassner &amp; Brad Wright</td><td><span style=white-space:pre-wrap>AIRMAN    </span></td><td> 5</td></tr>\n",
       "\t<tr><td>Seven to the deuce, nothing there, boss on the eight, nothing happening, queen to the king, possible straight going there, eight on the eight, and the jack gets a box. Eight's open.</td><td><span style=white-space:pre-wrap>Script    </span></td><td>01</td><td>1</td><td> CHILDREN OF THE GODS </td><td>Jonathan Glassner &amp; Brad Wright</td><td><span style=white-space:pre-wrap>AIRMAN    </span></td><td> 6</td></tr>\n",
       "\t<tr><td><span style=white-space:pre-wrap>FEMALE                                                                                                                                                                               </span></td><td>Character </td><td>01</td><td>1</td><td> CHILDREN OF THE GODS </td><td>Jonathan Glassner &amp; Brad Wright</td><td><span style=white-space:pre-wrap>FEMALE    </span></td><td> 7</td></tr>\n",
       "\t<tr><td><span style=white-space:pre-wrap>Aren't you guys afraid of an officer coming down here or something?                                                                                                                  </span></td><td><span style=white-space:pre-wrap>Script    </span></td><td>01</td><td>1</td><td> CHILDREN OF THE GODS </td><td>Jonathan Glassner &amp; Brad Wright</td><td><span style=white-space:pre-wrap>FEMALE    </span></td><td> 8</td></tr>\n",
       "\t<tr><td><span style=white-space:pre-wrap>OFFICER                                                                                                                                                                              </span></td><td>Character </td><td>01</td><td>1</td><td> CHILDREN OF THE GODS </td><td>Jonathan Glassner &amp; Brad Wright</td><td><span style=white-space:pre-wrap>OFFICER   </span></td><td> 9</td></tr>\n",
       "\t<tr><td><span style=white-space:pre-wrap>Trust me. Nobody ever comes down here but us.                                                                                                                                        </span></td><td><span style=white-space:pre-wrap>Script    </span></td><td>01</td><td>1</td><td> CHILDREN OF THE GODS </td><td>Jonathan Glassner &amp; Brad Wright</td><td><span style=white-space:pre-wrap>OFFICER   </span></td><td>10</td></tr>\n",
       "</tbody>\n",
       "</table>\n"
      ],
      "text/latex": [
       "A grouped\\_df: 10 × 8\n",
       "\\begin{tabular}{llllllll}\n",
       " content & text\\_type & season\\_number & episode\\_number & episode\\_name & episode\\_writer & character & line\\_index\\\\\n",
       " <chr> & <chr> & <chr> & <chr> & <chr> & <chr> & <chr> & <dbl>\\\\\n",
       "\\hline\n",
       "\t The opening scene starts in the gateroom. The gate is covered and in a corner of the room a group of four military personnel are playing a game of cards.                             & Directions & 01 & 1 &  CHILDREN OF THE GODS  & Jonathan Glassner \\& Brad Wright & Directions &  1\\\\\n",
       "\t AIRMAN                                                                                                                                                                                & Character  & 01 & 1 &  CHILDREN OF THE GODS  & Jonathan Glassner \\& Brad Wright & AIRMAN     &  2\\\\\n",
       "\t Oh, man, this hand's as lousy as this detail. All right, everybody in or out.                                                                                                         & Script     & 01 & 1 &  CHILDREN OF THE GODS  & Jonathan Glassner \\& Brad Wright & AIRMAN     &  3\\\\\n",
       "\t One of the personnel deals out some cards.                                                                                                                                            & Directions & 01 & 1 &  CHILDREN OF THE GODS  & Jonathan Glassner \\& Brad Wright & Directions &  4\\\\\n",
       "\t AIRMAN                                                                                                                                                                                & Character  & 01 & 1 &  CHILDREN OF THE GODS  & Jonathan Glassner \\& Brad Wright & AIRMAN     &  5\\\\\n",
       "\t Seven to the deuce, nothing there, boss on the eight, nothing happening, queen to the king, possible straight going there, eight on the eight, and the jack gets a box. Eight's open. & Script     & 01 & 1 &  CHILDREN OF THE GODS  & Jonathan Glassner \\& Brad Wright & AIRMAN     &  6\\\\\n",
       "\t FEMALE                                                                                                                                                                                & Character  & 01 & 1 &  CHILDREN OF THE GODS  & Jonathan Glassner \\& Brad Wright & FEMALE     &  7\\\\\n",
       "\t Aren't you guys afraid of an officer coming down here or something?                                                                                                                   & Script     & 01 & 1 &  CHILDREN OF THE GODS  & Jonathan Glassner \\& Brad Wright & FEMALE     &  8\\\\\n",
       "\t OFFICER                                                                                                                                                                               & Character  & 01 & 1 &  CHILDREN OF THE GODS  & Jonathan Glassner \\& Brad Wright & OFFICER    &  9\\\\\n",
       "\t Trust me. Nobody ever comes down here but us.                                                                                                                                         & Script     & 01 & 1 &  CHILDREN OF THE GODS  & Jonathan Glassner \\& Brad Wright & OFFICER    & 10\\\\\n",
       "\\end{tabular}\n"
      ],
      "text/markdown": [
       "\n",
       "A grouped_df: 10 × 8\n",
       "\n",
       "| content &lt;chr&gt; | text_type &lt;chr&gt; | season_number &lt;chr&gt; | episode_number &lt;chr&gt; | episode_name &lt;chr&gt; | episode_writer &lt;chr&gt; | character &lt;chr&gt; | line_index &lt;dbl&gt; |\n",
       "|---|---|---|---|---|---|---|---|\n",
       "| The opening scene starts in the gateroom. The gate is covered and in a corner of the room a group of four military personnel are playing a game of cards.                             | Directions | 01 | 1 |  CHILDREN OF THE GODS  | Jonathan Glassner &amp; Brad Wright | Directions |  1 |\n",
       "| AIRMAN                                                                                                                                                                                | Character  | 01 | 1 |  CHILDREN OF THE GODS  | Jonathan Glassner &amp; Brad Wright | AIRMAN     |  2 |\n",
       "| Oh, man, this hand's as lousy as this detail. All right, everybody in or out.                                                                                                         | Script     | 01 | 1 |  CHILDREN OF THE GODS  | Jonathan Glassner &amp; Brad Wright | AIRMAN     |  3 |\n",
       "| One of the personnel deals out some cards.                                                                                                                                            | Directions | 01 | 1 |  CHILDREN OF THE GODS  | Jonathan Glassner &amp; Brad Wright | Directions |  4 |\n",
       "| AIRMAN                                                                                                                                                                                | Character  | 01 | 1 |  CHILDREN OF THE GODS  | Jonathan Glassner &amp; Brad Wright | AIRMAN     |  5 |\n",
       "| Seven to the deuce, nothing there, boss on the eight, nothing happening, queen to the king, possible straight going there, eight on the eight, and the jack gets a box. Eight's open. | Script     | 01 | 1 |  CHILDREN OF THE GODS  | Jonathan Glassner &amp; Brad Wright | AIRMAN     |  6 |\n",
       "| FEMALE                                                                                                                                                                                | Character  | 01 | 1 |  CHILDREN OF THE GODS  | Jonathan Glassner &amp; Brad Wright | FEMALE     |  7 |\n",
       "| Aren't you guys afraid of an officer coming down here or something?                                                                                                                   | Script     | 01 | 1 |  CHILDREN OF THE GODS  | Jonathan Glassner &amp; Brad Wright | FEMALE     |  8 |\n",
       "| OFFICER                                                                                                                                                                               | Character  | 01 | 1 |  CHILDREN OF THE GODS  | Jonathan Glassner &amp; Brad Wright | OFFICER    |  9 |\n",
       "| Trust me. Nobody ever comes down here but us.                                                                                                                                         | Script     | 01 | 1 |  CHILDREN OF THE GODS  | Jonathan Glassner &amp; Brad Wright | OFFICER    | 10 |\n",
       "\n"
      ],
      "text/plain": [
       "   content                                                                                                                                                                              \n",
       "1  The opening scene starts in the gateroom. The gate is covered and in a corner of the room a group of four military personnel are playing a game of cards.                            \n",
       "2  AIRMAN                                                                                                                                                                               \n",
       "3  Oh, man, this hand's as lousy as this detail. All right, everybody in or out.                                                                                                        \n",
       "4  One of the personnel deals out some cards.                                                                                                                                           \n",
       "5  AIRMAN                                                                                                                                                                               \n",
       "6  Seven to the deuce, nothing there, boss on the eight, nothing happening, queen to the king, possible straight going there, eight on the eight, and the jack gets a box. Eight's open.\n",
       "7  FEMALE                                                                                                                                                                               \n",
       "8  Aren't you guys afraid of an officer coming down here or something?                                                                                                                  \n",
       "9  OFFICER                                                                                                                                                                              \n",
       "10 Trust me. Nobody ever comes down here but us.                                                                                                                                        \n",
       "   text_type  season_number episode_number episode_name          \n",
       "1  Directions 01            1               CHILDREN OF THE GODS \n",
       "2  Character  01            1               CHILDREN OF THE GODS \n",
       "3  Script     01            1               CHILDREN OF THE GODS \n",
       "4  Directions 01            1               CHILDREN OF THE GODS \n",
       "5  Character  01            1               CHILDREN OF THE GODS \n",
       "6  Script     01            1               CHILDREN OF THE GODS \n",
       "7  Character  01            1               CHILDREN OF THE GODS \n",
       "8  Script     01            1               CHILDREN OF THE GODS \n",
       "9  Character  01            1               CHILDREN OF THE GODS \n",
       "10 Script     01            1               CHILDREN OF THE GODS \n",
       "   episode_writer                  character  line_index\n",
       "1  Jonathan Glassner & Brad Wright Directions  1        \n",
       "2  Jonathan Glassner & Brad Wright AIRMAN      2        \n",
       "3  Jonathan Glassner & Brad Wright AIRMAN      3        \n",
       "4  Jonathan Glassner & Brad Wright Directions  4        \n",
       "5  Jonathan Glassner & Brad Wright AIRMAN      5        \n",
       "6  Jonathan Glassner & Brad Wright AIRMAN      6        \n",
       "7  Jonathan Glassner & Brad Wright FEMALE      7        \n",
       "8  Jonathan Glassner & Brad Wright FEMALE      8        \n",
       "9  Jonathan Glassner & Brad Wright OFFICER     9        \n",
       "10 Jonathan Glassner & Brad Wright OFFICER    10        "
      ]
     },
     "metadata": {},
     "output_type": "display_data"
    }
   ],
   "source": [
    "# Group the data by the line index field, effectively creating a new dataset with a unique line per row\n",
    "ep <-\n",
    "  group_by(ep, line_index) %>%\n",
    "  mutate(content = paste0(content, collapse = \" \")) %>%\n",
    "  unique()\n",
    "# Preview the line grouped data\n",
    "head(ep, 10)"
   ]
  },
  {
   "cell_type": "markdown",
   "metadata": {
    "papermill": {
     "duration": 0.039628,
     "end_time": "2021-02-22T21:58:21.582614",
     "exception": false,
     "start_time": "2021-02-22T21:58:21.542986",
     "status": "completed"
    },
    "tags": []
   },
   "source": [
    "<a id=\"section-eleven\"></a>\n",
    "# Create For Loop to Process Multiple Episode Files Into a Corpus\n",
    "\n",
    "I indicate the directory where the scripts are stored then define the filenames and create a list to populate. The loop then closely follows the above detailed workings but iterates over all raw episode files in the dataset. The final product is removed of superfluous columns and rows and the columns are ordered in an intuitve fashion including the inclusion of an index column."
   ]
  },
  {
   "cell_type": "code",
   "execution_count": 13,
   "metadata": {
    "_kg_hide-input": false,
    "_kg_hide-output": true,
    "execution": {
     "iopub.execute_input": "2021-02-22T21:58:21.667952Z",
     "iopub.status.busy": "2021-02-22T21:58:21.666186Z",
     "iopub.status.idle": "2021-02-22T21:58:21.740966Z",
     "shell.execute_reply": "2021-02-22T21:58:21.739369Z"
    },
    "papermill": {
     "duration": 0.118978,
     "end_time": "2021-02-22T21:58:21.741125",
     "exception": false,
     "start_time": "2021-02-22T21:58:21.622147",
     "status": "completed"
    },
    "tags": []
   },
   "outputs": [],
   "source": [
    "# Assign the directory location\n",
    "dir <-\n",
    "  \"../input/stargate-sg1-scripts\"\n",
    "# Define the file names\n",
    "filenames <-\n",
    "  list.files(path = dir, pattern = \"*.txt\")\n",
    "# Create a list to fill during the loop\n",
    "datalist <-\n",
    "  list()"
   ]
  },
  {
   "cell_type": "code",
   "execution_count": 14,
   "metadata": {
    "_kg_hide-input": false,
    "_kg_hide-output": true,
    "execution": {
     "iopub.execute_input": "2021-02-22T21:58:21.827540Z",
     "iopub.status.busy": "2021-02-22T21:58:21.825634Z",
     "iopub.status.idle": "2021-02-22T21:58:33.263826Z",
     "shell.execute_reply": "2021-02-22T21:58:33.262574Z"
    },
    "papermill": {
     "duration": 11.483112,
     "end_time": "2021-02-22T21:58:33.263982",
     "exception": false,
     "start_time": "2021-02-22T21:58:21.780870",
     "status": "completed"
    },
    "tags": []
   },
   "outputs": [
    {
     "name": "stderr",
     "output_type": "stream",
     "text": [
      "Warning message:\n",
      "“`data_frame()` is deprecated as of tibble 1.1.0.\n",
      "Please use `tibble()` instead.\n",
      "\u001b[90mThis warning is displayed once every 8 hours.\u001b[39m\n",
      "\u001b[90mCall `lifecycle::last_warnings()` to see where this warning was generated.\u001b[39m”\n"
     ]
    }
   ],
   "source": [
    "for(i in filenames) {\n",
    "  # Name the filepath after the episode file name\n",
    "  filepath <-\n",
    "    file.path(paste0(\"../input/stargate-sg1-scripts/\", i))\n",
    "  # Extract the data from each script flat file and convert to a dataframe for episode information extraction\n",
    "  extract <-\n",
    "    readLines(filepath) %>%\n",
    "    data_frame(content = .)\n",
    "  # Extract the episode name from the file\n",
    "  episode_name <-\n",
    "    extract[5, 1] %>%\n",
    "    pull %>%\n",
    "    trim %>%\n",
    "    str_replace_all(\"[^[:alnum:]'-]\", \" \")\n",
    "  # Extract the episode writer's name from the file\n",
    "  episode_writer <-\n",
    "    extract[9, 1] %>%\n",
    "    pull %>%\n",
    "    trim\n",
    "  # Extract the data from each script flat file and convert to a dataframe for processing into corpus format\n",
    "  datalist[[i]] <- assign(\n",
    "    i,\n",
    "    readLines(filepath) %>%\n",
    "      data_frame(content = .) %>%\n",
    "      # Add the season number and episode number columns from the flat filepath name\n",
    "      mutate(\n",
    "        season_number = filepath %>%\n",
    "          substr(32, 33) %>%\n",
    "          as.numeric(),\n",
    "        episode_number = filepath %>%\n",
    "          substr(35, 36) %>%\n",
    "          as.numeric(),\n",
    "        # Add the episode name and episode writer's name from the data we extracted previously\n",
    "        episode_name = episode_name,\n",
    "        episode_writer = episode_writer,\n",
    "        # Categorise each line of the script as Character, Script, or Directions\n",
    "        text_type = case_when(\n",
    "          str_detect(content, \"                                     \") == TRUE ~ \"Character\",\n",
    "          str_detect(content, \"                         \") == TRUE ~ \"Script\",\n",
    "          str_detect(content, \"               \") == TRUE ~ \"Directions\",\n",
    "          TRUE ~ \"Other\"\n",
    "        )\n",
    "      ) %>%\n",
    "      # Clean the content column up by replacing alphanumerics, punctuation, rogue spacing, blank cells, etc\n",
    "      mutate(content = str_replace_all(content, \"' \", \"'\")) %>%\n",
    "      mutate(content = str_replace_all(content, \"'\", \"\")) %>%\n",
    "      mutate(content = str_replace_all(content, \"[^[:alnum:]'()]\", \" \")) %>%\n",
    "      mutate(content = gsub(' +', ' ', content)) %>%\n",
    "      mutate(content = str_trim(content, side = \"both\")) %>%\n",
    "      subset(content != \"\") %>%\n",
    "      tail(-5) %>%\n",
    "      # Create the character column\n",
    "      mutate(\n",
    "        character = case_when(\n",
    "          str_detect(text_type, \"Character\") == TRUE ~ content,\n",
    "          str_detect(text_type, \"Direction\") == TRUE ~ \"Directions\",\n",
    "          TRUE ~ NA_character_\n",
    "        )\n",
    "      ) %>%\n",
    "      fill(character) %>%\n",
    "      # Create line index\n",
    "      mutate(line_index = cumsum(ifelse(\n",
    "        text_type != lag(text_type) | is.na(lag(text_type)), 1, 0\n",
    "      ))) %>%\n",
    "      # Conslolidate all rows by line index\n",
    "      group_by(line_index) %>%\n",
    "      mutate(content = paste0(content, collapse = \" \")) %>%\n",
    "      unique() %>%\n",
    "      ungroup(line_index)\n",
    "  ) \n",
    "}"
   ]
  },
  {
   "cell_type": "markdown",
   "metadata": {
    "papermill": {
     "duration": 0.040762,
     "end_time": "2021-02-22T21:58:33.345870",
     "exception": false,
     "start_time": "2021-02-22T21:58:33.305108",
     "status": "completed"
    },
    "tags": []
   },
   "source": [
    "Next I bind rows on the data list to create the sg1corpus, create an episode index, remove the character designations, select fields going forward, lower case all fields, and remove ampersand symbol in episode writer field."
   ]
  },
  {
   "cell_type": "code",
   "execution_count": 15,
   "metadata": {
    "_kg_hide-output": true,
    "execution": {
     "iopub.execute_input": "2021-02-22T21:58:33.432471Z",
     "iopub.status.busy": "2021-02-22T21:58:33.431098Z",
     "iopub.status.idle": "2021-02-22T21:58:34.563896Z",
     "shell.execute_reply": "2021-02-22T21:58:34.562583Z"
    },
    "papermill": {
     "duration": 1.177399,
     "end_time": "2021-02-22T21:58:34.564062",
     "exception": false,
     "start_time": "2021-02-22T21:58:33.386663",
     "status": "completed"
    },
    "tags": []
   },
   "outputs": [],
   "source": [
    "sg1corpus <-\n",
    "  bind_rows(datalist, .id = \"column_label\") %>%\n",
    "  mutate(episode_index = cumsum(ifelse(\n",
    "    episode_number != lag(episode_number) |\n",
    "      is.na(lag(episode_number)), 1, 0\n",
    "  ))) %>%\n",
    "  subset(text_type != \"Character\") %>%\n",
    "  mutate(\n",
    "    character = tolower(character),\n",
    "    episode_name = tolower(episode_name),\n",
    "    episode_writer = str_replace_all(tolower(episode_writer), \"&\", \"and\"),\n",
    "    # Remove anything between brackets in dialogue and directions assumed to be transcriber commentary\n",
    "    content = str_replace_all(tolower(content), \"\\\\(.*?\\\\)\", \"\")\n",
    "  ) %>%\n",
    "  # Remove any instance of backslash symbol\n",
    "  mutate(character = str_replace_all(character, \"\\\\\\\\\", \"\")) %>%\n",
    "  # Make all character name indicators consistent in both character and content fields\n",
    "  mutate(character = str_replace_all(character, \"oneill\", \"jack\")) %>%\n",
    "  mutate(character = str_replace_all(character, \"carter\", \"sam\")) %>%\n",
    "  mutate(character = str_replace_all(character, \"danny\", \"daniel\")) %>%\n",
    "  mutate(character = str_replace_all(character, \"jackson\", \"daniel\")) %>%\n",
    "  mutate(character = str_replace_all(character, \"davis\", \"harriman\")) %>%\n",
    "  mutate(character = str_replace_all(character, \"gh\", \"hammond\")) %>%\n",
    "  mutate(character = str_replace_all(character, \"technician\", \"tech\")) %>%\n",
    "  mutate(character = str_replace_all(character, \"fraiser\", \"janet\")) %>%\n",
    "  mutate(character = str_replace_all(character, \"ag\", \"malakai\")) %>%\n",
    "  mutate(character = str_replace_all(character, \"teal c\", \"tealc\")) %>%\n",
    "  # Sometimes there was very brief indicators of who the character was talking to immediately after the character name this was deemed low value and removed\n",
    "  mutate(character = str_replace_all(character, \"\\\\(.*?\\\\)\", \"\")) %>%\n",
    "  mutate(content = str_replace_all(content, \"teal c\", \"tealc\")) %>%\n",
    "  mutate(content = str_replace_all(content, \"o neill\", \"oneill\")) %>%\n",
    "  mutate(content = str_replace_all(content, \" gh \", \" hammond \")) %>%\n",
    "  mutate(content = str_replace_all(content, \"apophis\", \"apophis \")) %>%\n",
    "  # Remove leading spaces\n",
    "  mutate(content = str_trim(content, side = \"both\")) %>%\n",
    "  # Remove double spaces\n",
    "  mutate(content = str_squish(content)) %>%\n",
    "  # Create index\n",
    "  rowid_to_column(\"index\") %>%\n",
    "  # Select fields to carry forward\n",
    "  select(\n",
    "    index,\n",
    "    season_number,\n",
    "    episode_index,\n",
    "    episode_number,\n",
    "    episode_name,\n",
    "    text_type,\n",
    "    episode_writer,\n",
    "    character,\n",
    "    content\n",
    "  )"
   ]
  },
  {
   "cell_type": "markdown",
   "metadata": {
    "papermill": {
     "duration": 0.040508,
     "end_time": "2021-02-22T21:58:34.645601",
     "exception": false,
     "start_time": "2021-02-22T21:58:34.605093",
     "status": "completed"
    },
    "tags": []
   },
   "source": [
    "<a id=\"section-twelve\"></a>\n",
    "# Review Data Where text_type is \"Other\" Indicating an Error\n",
    "There should be no lines in the following table"
   ]
  },
  {
   "cell_type": "code",
   "execution_count": 16,
   "metadata": {
    "execution": {
     "iopub.execute_input": "2021-02-22T21:58:34.735963Z",
     "iopub.status.busy": "2021-02-22T21:58:34.734894Z",
     "iopub.status.idle": "2021-02-22T21:58:34.755635Z",
     "shell.execute_reply": "2021-02-22T21:58:34.754416Z"
    },
    "papermill": {
     "duration": 0.066063,
     "end_time": "2021-02-22T21:58:34.755779",
     "exception": false,
     "start_time": "2021-02-22T21:58:34.689716",
     "status": "completed"
    },
    "tags": []
   },
   "outputs": [
    {
     "data": {
      "text/html": [
       "<table class=\"dataframe\">\n",
       "<caption>A tibble: 0 × 9</caption>\n",
       "<thead>\n",
       "\t<tr><th scope=col>index</th><th scope=col>season_number</th><th scope=col>episode_index</th><th scope=col>episode_number</th><th scope=col>episode_name</th><th scope=col>text_type</th><th scope=col>episode_writer</th><th scope=col>character</th><th scope=col>content</th></tr>\n",
       "\t<tr><th scope=col>&lt;int&gt;</th><th scope=col>&lt;dbl&gt;</th><th scope=col>&lt;dbl&gt;</th><th scope=col>&lt;dbl&gt;</th><th scope=col>&lt;chr&gt;</th><th scope=col>&lt;chr&gt;</th><th scope=col>&lt;chr&gt;</th><th scope=col>&lt;chr&gt;</th><th scope=col>&lt;chr&gt;</th></tr>\n",
       "</thead>\n",
       "<tbody>\n",
       "</tbody>\n",
       "</table>\n"
      ],
      "text/latex": [
       "A tibble: 0 × 9\n",
       "\\begin{tabular}{lllllllll}\n",
       " index & season\\_number & episode\\_index & episode\\_number & episode\\_name & text\\_type & episode\\_writer & character & content\\\\\n",
       " <int> & <dbl> & <dbl> & <dbl> & <chr> & <chr> & <chr> & <chr> & <chr>\\\\\n",
       "\\hline\n",
       "\\end{tabular}\n"
      ],
      "text/markdown": [
       "\n",
       "A tibble: 0 × 9\n",
       "\n",
       "| index &lt;int&gt; | season_number &lt;dbl&gt; | episode_index &lt;dbl&gt; | episode_number &lt;dbl&gt; | episode_name &lt;chr&gt; | text_type &lt;chr&gt; | episode_writer &lt;chr&gt; | character &lt;chr&gt; | content &lt;chr&gt; |\n",
       "|---|---|---|---|---|---|---|---|---|\n",
       "\n"
      ],
      "text/plain": [
       "     index season_number episode_index episode_number episode_name text_type\n",
       "     episode_writer character content"
      ]
     },
     "metadata": {},
     "output_type": "display_data"
    }
   ],
   "source": [
    "subset(sg1corpus, text_type == \"Other\")"
   ]
  },
  {
   "cell_type": "markdown",
   "metadata": {
    "papermill": {
     "duration": 0.041965,
     "end_time": "2021-02-22T21:58:34.839719",
     "exception": false,
     "start_time": "2021-02-22T21:58:34.797754",
     "status": "completed"
    },
    "tags": []
   },
   "source": [
    "<a id=\"section-thirteen\"></a>\n",
    "# Review All Episodes For Writing Style Changes"
   ]
  },
  {
   "cell_type": "markdown",
   "metadata": {
    "papermill": {
     "duration": 0.04348,
     "end_time": "2021-02-22T21:58:34.924320",
     "exception": false,
     "start_time": "2021-02-22T21:58:34.880840",
     "status": "completed"
    },
    "tags": []
   },
   "source": [
    "<a id=\"subsection-one\"></a>\n",
    "## Total Direction Frequency Review\n",
    "This visualisation quickly acts as a sense check to ensure that the logic is not missing stage direction lines to a significant degree, we should not note any huge deviation in line volume for an episode. The only exception we note is episode 1 where the script combines part 1 and part 2 of this episode (Children of the Gods). This will also be important to keep in mind for upcoming analysis on this dataset."
   ]
  },
  {
   "cell_type": "code",
   "execution_count": 17,
   "metadata": {
    "_kg_hide-input": false,
    "execution": {
     "iopub.execute_input": "2021-02-22T21:58:35.015819Z",
     "iopub.status.busy": "2021-02-22T21:58:35.014042Z",
     "iopub.status.idle": "2021-02-22T21:58:35.735166Z",
     "shell.execute_reply": "2021-02-22T21:58:35.734003Z"
    },
    "papermill": {
     "duration": 0.768271,
     "end_time": "2021-02-22T21:58:35.735374",
     "exception": false,
     "start_time": "2021-02-22T21:58:34.967103",
     "status": "completed"
    },
    "tags": []
   },
   "outputs": [
    {
     "data": {
      "image/png": "[encoded data removed]"
     },
     "metadata": {
      "image/png": {
       "height": 420,
       "width": 900
      }
     },
     "output_type": "display_data"
    }
   ],
   "source": [
    "options(repr.plot.width = 15, repr.plot.height = 7)\n",
    "ggplot(subset(sg1corpus, character == \"directions\"),\n",
    "       aes(x = episode_index)) +\n",
    "  geom_bar(fill = \"slategray3\", colour = \"white\") +\n",
    "  theme_tb() +\n",
    "  labs(y = \"Count of Lines\", \n",
    "       x = \"Episode\",\n",
    "       title = \"Frequency of Direction Lines by Episode\")"
   ]
  },
  {
   "cell_type": "markdown",
   "metadata": {
    "papermill": {
     "duration": 0.043636,
     "end_time": "2021-02-22T21:58:35.822284",
     "exception": false,
     "start_time": "2021-02-22T21:58:35.778648",
     "status": "completed"
    },
    "tags": []
   },
   "source": [
    "I note that episode 67 and 70 there is a large drop/spike in stage direction frequency respectively. I believe these scripts had outlying writing styles, one of which included a lot more detail in the direction content, and the other the opposite. It is worth investigating and I will review the content to be sure."
   ]
  },
  {
   "cell_type": "code",
   "execution_count": 18,
   "metadata": {
    "_kg_hide-input": false,
    "execution": {
     "iopub.execute_input": "2021-02-22T21:58:35.932914Z",
     "iopub.status.busy": "2021-02-22T21:58:35.931122Z",
     "iopub.status.idle": "2021-02-22T21:58:35.981500Z",
     "shell.execute_reply": "2021-02-22T21:58:35.979948Z"
    },
    "papermill": {
     "duration": 0.115368,
     "end_time": "2021-02-22T21:58:35.981653",
     "exception": false,
     "start_time": "2021-02-22T21:58:35.866285",
     "status": "completed"
    },
    "tags": []
   },
   "outputs": [
    {
     "data": {
      "text/html": [
       "<table class=\"dataframe\">\n",
       "<caption>A tibble: 6 × 4</caption>\n",
       "<thead>\n",
       "\t<tr><th scope=col>season_number</th><th scope=col>episode_number</th><th scope=col>episode_index</th><th scope=col>content</th></tr>\n",
       "\t<tr><th scope=col>&lt;dbl&gt;</th><th scope=col>&lt;dbl&gt;</th><th scope=col>&lt;dbl&gt;</th><th scope=col>&lt;chr&gt;</th></tr>\n",
       "</thead>\n",
       "<tbody>\n",
       "\t<tr><td>4</td><td>2</td><td>67</td><td>man continues asking for other man i cant understand no closed captioning im doing it from an asf he said something about going through the portal</td></tr>\n",
       "\t<tr><td>4</td><td>2</td><td>67</td><td>opening credits                                                                                                                                   </td></tr>\n",
       "\t<tr><td>4</td><td>2</td><td>67</td><td>they step through the gate and feel the ground shaking they hear alar moaning and sam runs to him                                                 </td></tr>\n",
       "\t<tr><td>4</td><td>2</td><td>67</td><td>jack walks yup to them an explosion happens and nearly knocks him down                                                                            </td></tr>\n",
       "\t<tr><td>4</td><td>2</td><td>67</td><td>the ground glasses and chandelier starts shaking                                                                                                  </td></tr>\n",
       "\t<tr><td>4</td><td>2</td><td>67</td><td>jack leaves follows by tealc sam stands at the door for danny to proceed her then leaves at the base                                              </td></tr>\n",
       "</tbody>\n",
       "</table>\n"
      ],
      "text/latex": [
       "A tibble: 6 × 4\n",
       "\\begin{tabular}{llll}\n",
       " season\\_number & episode\\_number & episode\\_index & content\\\\\n",
       " <dbl> & <dbl> & <dbl> & <chr>\\\\\n",
       "\\hline\n",
       "\t 4 & 2 & 67 & man continues asking for other man i cant understand no closed captioning im doing it from an asf he said something about going through the portal\\\\\n",
       "\t 4 & 2 & 67 & opening credits                                                                                                                                   \\\\\n",
       "\t 4 & 2 & 67 & they step through the gate and feel the ground shaking they hear alar moaning and sam runs to him                                                 \\\\\n",
       "\t 4 & 2 & 67 & jack walks yup to them an explosion happens and nearly knocks him down                                                                            \\\\\n",
       "\t 4 & 2 & 67 & the ground glasses and chandelier starts shaking                                                                                                  \\\\\n",
       "\t 4 & 2 & 67 & jack leaves follows by tealc sam stands at the door for danny to proceed her then leaves at the base                                              \\\\\n",
       "\\end{tabular}\n"
      ],
      "text/markdown": [
       "\n",
       "A tibble: 6 × 4\n",
       "\n",
       "| season_number &lt;dbl&gt; | episode_number &lt;dbl&gt; | episode_index &lt;dbl&gt; | content &lt;chr&gt; |\n",
       "|---|---|---|---|\n",
       "| 4 | 2 | 67 | man continues asking for other man i cant understand no closed captioning im doing it from an asf he said something about going through the portal |\n",
       "| 4 | 2 | 67 | opening credits                                                                                                                                    |\n",
       "| 4 | 2 | 67 | they step through the gate and feel the ground shaking they hear alar moaning and sam runs to him                                                  |\n",
       "| 4 | 2 | 67 | jack walks yup to them an explosion happens and nearly knocks him down                                                                             |\n",
       "| 4 | 2 | 67 | the ground glasses and chandelier starts shaking                                                                                                   |\n",
       "| 4 | 2 | 67 | jack leaves follows by tealc sam stands at the door for danny to proceed her then leaves at the base                                               |\n",
       "\n"
      ],
      "text/plain": [
       "  season_number episode_number episode_index\n",
       "1 4             2              67           \n",
       "2 4             2              67           \n",
       "3 4             2              67           \n",
       "4 4             2              67           \n",
       "5 4             2              67           \n",
       "6 4             2              67           \n",
       "  content                                                                                                                                           \n",
       "1 man continues asking for other man i cant understand no closed captioning im doing it from an asf he said something about going through the portal\n",
       "2 opening credits                                                                                                                                   \n",
       "3 they step through the gate and feel the ground shaking they hear alar moaning and sam runs to him                                                 \n",
       "4 jack walks yup to them an explosion happens and nearly knocks him down                                                                            \n",
       "5 the ground glasses and chandelier starts shaking                                                                                                  \n",
       "6 jack leaves follows by tealc sam stands at the door for danny to proceed her then leaves at the base                                              "
      ]
     },
     "metadata": {},
     "output_type": "display_data"
    },
    {
     "data": {
      "text/html": [
       "<table class=\"dataframe\">\n",
       "<caption>A tibble: 6 × 4</caption>\n",
       "<thead>\n",
       "\t<tr><th scope=col>season_number</th><th scope=col>episode_number</th><th scope=col>episode_index</th><th scope=col>content</th></tr>\n",
       "\t<tr><th scope=col>&lt;dbl&gt;</th><th scope=col>&lt;dbl&gt;</th><th scope=col>&lt;dbl&gt;</th><th scope=col>&lt;chr&gt;</th></tr>\n",
       "</thead>\n",
       "<tbody>\n",
       "\t<tr><td>4</td><td>5</td><td>70</td><td>vorash the tokra headquarters planet exterior shot a stargate in a desolate landscape sandy with oddly shaped obelisk like rocks interior tokra tunnels tokra council chamber oneill jackson martouf anise freya major graham and captain blasdale are sitting around the table                                                                                                                                                                                                                                                                                                                                  </td></tr>\n",
       "\t<tr><td>4</td><td>5</td><td>70</td><td>martouf stands when he hears persuss voice two guards and high councilor persus enter the chamber everyone else stands and martouf walks toward persus                                                                                                                                                                                                                                                                                                                                                                                                                                                           </td></tr>\n",
       "\t<tr><td>4</td><td>5</td><td>70</td><td>as martouf introduces the tauri to the high councilor we see graham with a tiny goauld energy weapon disguised as a ring in the palm of his hand he pushes something and it opens up he turns his hand so no one else can see it then back to martouf bowing to persus                                                                                                                                                                                                                                                                                                                                           </td></tr>\n",
       "\t<tr><td>4</td><td>5</td><td>70</td><td>daniel walks forward and bows to persus                                                                                                                                                                                                                                                                                                                                                                                                                                                                                                                                                                          </td></tr>\n",
       "\t<tr><td>4</td><td>5</td><td>70</td><td>behind daniel major graham aims the goauld weapon at persus                                                                                                                                                                                                                                                                                                                                                                                                                                                                                                                                                      </td></tr>\n",
       "\t<tr><td>4</td><td>5</td><td>70</td><td>oneill ducks graham shoots a blast from the ring weapon it goes straight through a tokra bodyguard and hits persus in the chest knocking him down captain blasdale tries to get the weapon from graham and graham blows a hole through the captain the second tokra bodyguard tries to hit graham with a zat gun and gets shot as well then graham turns toward freya who is hiding behind the table oneill sees this jumps over the table and knocks freya to the floor the blast barely misses them daniel crouching against a wall looks flabbergasted grahams eyes are wide as he points the weapon at oneill</td></tr>\n",
       "</tbody>\n",
       "</table>\n"
      ],
      "text/latex": [
       "A tibble: 6 × 4\n",
       "\\begin{tabular}{llll}\n",
       " season\\_number & episode\\_number & episode\\_index & content\\\\\n",
       " <dbl> & <dbl> & <dbl> & <chr>\\\\\n",
       "\\hline\n",
       "\t 4 & 5 & 70 & vorash the tokra headquarters planet exterior shot a stargate in a desolate landscape sandy with oddly shaped obelisk like rocks interior tokra tunnels tokra council chamber oneill jackson martouf anise freya major graham and captain blasdale are sitting around the table                                                                                                                                                                                                                                                                                                                                  \\\\\n",
       "\t 4 & 5 & 70 & martouf stands when he hears persuss voice two guards and high councilor persus enter the chamber everyone else stands and martouf walks toward persus                                                                                                                                                                                                                                                                                                                                                                                                                                                           \\\\\n",
       "\t 4 & 5 & 70 & as martouf introduces the tauri to the high councilor we see graham with a tiny goauld energy weapon disguised as a ring in the palm of his hand he pushes something and it opens up he turns his hand so no one else can see it then back to martouf bowing to persus                                                                                                                                                                                                                                                                                                                                           \\\\\n",
       "\t 4 & 5 & 70 & daniel walks forward and bows to persus                                                                                                                                                                                                                                                                                                                                                                                                                                                                                                                                                                          \\\\\n",
       "\t 4 & 5 & 70 & behind daniel major graham aims the goauld weapon at persus                                                                                                                                                                                                                                                                                                                                                                                                                                                                                                                                                      \\\\\n",
       "\t 4 & 5 & 70 & oneill ducks graham shoots a blast from the ring weapon it goes straight through a tokra bodyguard and hits persus in the chest knocking him down captain blasdale tries to get the weapon from graham and graham blows a hole through the captain the second tokra bodyguard tries to hit graham with a zat gun and gets shot as well then graham turns toward freya who is hiding behind the table oneill sees this jumps over the table and knocks freya to the floor the blast barely misses them daniel crouching against a wall looks flabbergasted grahams eyes are wide as he points the weapon at oneill\\\\\n",
       "\\end{tabular}\n"
      ],
      "text/markdown": [
       "\n",
       "A tibble: 6 × 4\n",
       "\n",
       "| season_number &lt;dbl&gt; | episode_number &lt;dbl&gt; | episode_index &lt;dbl&gt; | content &lt;chr&gt; |\n",
       "|---|---|---|---|\n",
       "| 4 | 5 | 70 | vorash the tokra headquarters planet exterior shot a stargate in a desolate landscape sandy with oddly shaped obelisk like rocks interior tokra tunnels tokra council chamber oneill jackson martouf anise freya major graham and captain blasdale are sitting around the table                                                                                                                                                                                                                                                                                                                                   |\n",
       "| 4 | 5 | 70 | martouf stands when he hears persuss voice two guards and high councilor persus enter the chamber everyone else stands and martouf walks toward persus                                                                                                                                                                                                                                                                                                                                                                                                                                                            |\n",
       "| 4 | 5 | 70 | as martouf introduces the tauri to the high councilor we see graham with a tiny goauld energy weapon disguised as a ring in the palm of his hand he pushes something and it opens up he turns his hand so no one else can see it then back to martouf bowing to persus                                                                                                                                                                                                                                                                                                                                            |\n",
       "| 4 | 5 | 70 | daniel walks forward and bows to persus                                                                                                                                                                                                                                                                                                                                                                                                                                                                                                                                                                           |\n",
       "| 4 | 5 | 70 | behind daniel major graham aims the goauld weapon at persus                                                                                                                                                                                                                                                                                                                                                                                                                                                                                                                                                       |\n",
       "| 4 | 5 | 70 | oneill ducks graham shoots a blast from the ring weapon it goes straight through a tokra bodyguard and hits persus in the chest knocking him down captain blasdale tries to get the weapon from graham and graham blows a hole through the captain the second tokra bodyguard tries to hit graham with a zat gun and gets shot as well then graham turns toward freya who is hiding behind the table oneill sees this jumps over the table and knocks freya to the floor the blast barely misses them daniel crouching against a wall looks flabbergasted grahams eyes are wide as he points the weapon at oneill |\n",
       "\n"
      ],
      "text/plain": [
       "  season_number episode_number episode_index\n",
       "1 4             5              70           \n",
       "2 4             5              70           \n",
       "3 4             5              70           \n",
       "4 4             5              70           \n",
       "5 4             5              70           \n",
       "6 4             5              70           \n",
       "  content                                                                                                                                                                                                                                                                                                                                                                                                                                                                                                                                                                                                          \n",
       "1 vorash the tokra headquarters planet exterior shot a stargate in a desolate landscape sandy with oddly shaped obelisk like rocks interior tokra tunnels tokra council chamber oneill jackson martouf anise freya major graham and captain blasdale are sitting around the table                                                                                                                                                                                                                                                                                                                                  \n",
       "2 martouf stands when he hears persuss voice two guards and high councilor persus enter the chamber everyone else stands and martouf walks toward persus                                                                                                                                                                                                                                                                                                                                                                                                                                                           \n",
       "3 as martouf introduces the tauri to the high councilor we see graham with a tiny goauld energy weapon disguised as a ring in the palm of his hand he pushes something and it opens up he turns his hand so no one else can see it then back to martouf bowing to persus                                                                                                                                                                                                                                                                                                                                           \n",
       "4 daniel walks forward and bows to persus                                                                                                                                                                                                                                                                                                                                                                                                                                                                                                                                                                          \n",
       "5 behind daniel major graham aims the goauld weapon at persus                                                                                                                                                                                                                                                                                                                                                                                                                                                                                                                                                      \n",
       "6 oneill ducks graham shoots a blast from the ring weapon it goes straight through a tokra bodyguard and hits persus in the chest knocking him down captain blasdale tries to get the weapon from graham and graham blows a hole through the captain the second tokra bodyguard tries to hit graham with a zat gun and gets shot as well then graham turns toward freya who is hiding behind the table oneill sees this jumps over the table and knocks freya to the floor the blast barely misses them daniel crouching against a wall looks flabbergasted grahams eyes are wide as he points the weapon at oneill"
      ]
     },
     "metadata": {},
     "output_type": "display_data"
    }
   ],
   "source": [
    "S04E02 <-\n",
    "  subset(sg1corpus, character == \"directions\" &\n",
    "           episode_index == 67) %>%\n",
    "  select(season_number, episode_number, episode_index, content)\n",
    "S04E05 <-\n",
    "  subset(sg1corpus, character == \"directions\" &\n",
    "           episode_index == 70) %>%\n",
    "  select(season_number, episode_number, episode_index, content)\n",
    "head(S04E02)\n",
    "head(S04E05)"
   ]
  },
  {
   "cell_type": "markdown",
   "metadata": {
    "papermill": {
     "duration": 0.045197,
     "end_time": "2021-02-22T21:58:36.072397",
     "exception": false,
     "start_time": "2021-02-22T21:58:36.027200",
     "status": "completed"
    },
    "tags": []
   },
   "source": [
    "From this review we can see S04E02 has much briefer directions compared to S04E05 but both are genuine and are likely due to variances in the type of content in each episode and/or writing style."
   ]
  },
  {
   "cell_type": "markdown",
   "metadata": {
    "papermill": {
     "duration": 0.045153,
     "end_time": "2021-02-22T21:58:36.162667",
     "exception": false,
     "start_time": "2021-02-22T21:58:36.117514",
     "status": "completed"
    },
    "tags": []
   },
   "source": [
    "<a id=\"subsection-two\"></a>\n",
    "## Total Character Dialogue Lines Frequency Review\n",
    "This visualisation quickly acts as a sense check to ensure that the logic is not missing lines to a significant degree, we should not note any huge deviation in line volume for an episode. The only exception we note is episode 1 where the script combines part 1 and part 2 of this episode (Children of the Gods). This will also be important to keep in mind for upcoming analysis on this dataset."
   ]
  },
  {
   "cell_type": "code",
   "execution_count": 19,
   "metadata": {
    "_kg_hide-input": false,
    "execution": {
     "iopub.execute_input": "2021-02-22T21:58:36.258567Z",
     "iopub.status.busy": "2021-02-22T21:58:36.256828Z",
     "iopub.status.idle": "2021-02-22T21:58:36.802065Z",
     "shell.execute_reply": "2021-02-22T21:58:36.800540Z"
    },
    "papermill": {
     "duration": 0.594196,
     "end_time": "2021-02-22T21:58:36.802223",
     "exception": false,
     "start_time": "2021-02-22T21:58:36.208027",
     "status": "completed"
    },
    "tags": []
   },
   "outputs": [
    {
     "data": {
      "image/png": "[encoded data removed]"
     },
     "metadata": {
      "image/png": {
       "height": 420,
       "width": 900
      }
     },
     "output_type": "display_data"
    }
   ],
   "source": [
    "options(repr.plot.width = 15, repr.plot.height = 7)\n",
    "ggplot(subset(sg1corpus, character != \"directions\"),\n",
    "       aes(x = episode_index)) +\n",
    "  geom_bar(fill = \"slategray3\", colour = \"white\") +\n",
    "  theme_tb() +\n",
    "  labs(y = \"Count of Lines\", \n",
    "       x = \"Episode\",\n",
    "       title = \"Frequency of Lines by Episode of Any Character\")"
   ]
  },
  {
   "cell_type": "markdown",
   "metadata": {
    "papermill": {
     "duration": 0.046349,
     "end_time": "2021-02-22T21:58:36.895758",
     "exception": false,
     "start_time": "2021-02-22T21:58:36.849409",
     "status": "completed"
    },
    "tags": []
   },
   "source": [
    "<a id=\"subsection-three\"></a>\n",
    "## Main Character Line Frequency Review\n",
    "\n",
    "During my review of the raw scripts I noted that ocassionally the writer would refer to Jack as O'Neill and Sam as Carter which was the exception. This was straightforward to quickly account for in the code but this quick visualisation acts as a sense checker and reveals if any episodes have no lines by any of the four main characters. In reality this is very unlikely except for some known cases, so we can easily pick up on any major changes in naming conventions which likely affected other minor characters."
   ]
  },
  {
   "cell_type": "code",
   "execution_count": 20,
   "metadata": {
    "_kg_hide-input": false,
    "execution": {
     "iopub.execute_input": "2021-02-22T21:58:36.995932Z",
     "iopub.status.busy": "2021-02-22T21:58:36.994275Z",
     "iopub.status.idle": "2021-02-22T21:58:38.045915Z",
     "shell.execute_reply": "2021-02-22T21:58:38.043676Z"
    },
    "papermill": {
     "duration": 1.102808,
     "end_time": "2021-02-22T21:58:38.046079",
     "exception": false,
     "start_time": "2021-02-22T21:58:36.943271",
     "status": "completed"
    },
    "tags": []
   },
   "outputs": [
    {
     "data": {
      "image/png": "[encoded data removed]"
     },
     "metadata": {
      "image/png": {
       "height": 420,
       "width": 900
      }
     },
     "output_type": "display_data"
    }
   ],
   "source": [
    "options(repr.plot.width = 15, repr.plot.height = 7)\n",
    "maincharlines <-\n",
    "  subset(\n",
    "    sg1corpus,\n",
    "    character == \"sam\" |\n",
    "      character == \"jack\" |\n",
    "      character == \"daniel\" |\n",
    "      character == \"tealc\"\n",
    "  )\n",
    "ggplot(maincharlines, aes(x = episode_index)) +\n",
    "  geom_bar(fill = \"slategray3\", colour = \"white\") +\n",
    "  theme_tb() +\n",
    "  facet_wrap( ~ character) +\n",
    "  labs(y = \"Count of Lines\",\n",
    "       x = \"Episode\",\n",
    "       title = \"Frequency of Lines by Episode of Each Main Character\")"
   ]
  },
  {
   "cell_type": "markdown",
   "metadata": {
    "papermill": {
     "duration": 0.04832,
     "end_time": "2021-02-22T21:58:38.143509",
     "exception": false,
     "start_time": "2021-02-22T21:58:38.095189",
     "status": "completed"
    },
    "tags": []
   },
   "source": [
    "I return a table of all episodes where a character has no lines at all which are interestingly all Daniel. Upon a manual review of the original scripts they are genuine as I note below with the other outliers."
   ]
  },
  {
   "cell_type": "code",
   "execution_count": 21,
   "metadata": {
    "execution": {
     "iopub.execute_input": "2021-02-22T21:58:38.246553Z",
     "iopub.status.busy": "2021-02-22T21:58:38.244819Z",
     "iopub.status.idle": "2021-02-22T21:58:38.339639Z",
     "shell.execute_reply": "2021-02-22T21:58:38.338285Z"
    },
    "papermill": {
     "duration": 0.148118,
     "end_time": "2021-02-22T21:58:38.339795",
     "exception": false,
     "start_time": "2021-02-22T21:58:38.191677",
     "status": "completed"
    },
    "tags": []
   },
   "outputs": [
    {
     "data": {
      "text/html": [
       "<table class=\"dataframe\">\n",
       "<caption>A grouped_df: 3 × 8</caption>\n",
       "<thead>\n",
       "\t<tr><th scope=col>episode_index</th><th scope=col>season_number</th><th scope=col>episode_number</th><th scope=col>episode_name</th><th scope=col>daniel</th><th scope=col>jack</th><th scope=col>sam</th><th scope=col>tealc</th></tr>\n",
       "\t<tr><th scope=col>&lt;dbl&gt;</th><th scope=col>&lt;dbl&gt;</th><th scope=col>&lt;dbl&gt;</th><th scope=col>&lt;chr&gt;</th><th scope=col>&lt;int&gt;</th><th scope=col>&lt;int&gt;</th><th scope=col>&lt;int&gt;</th><th scope=col>&lt;int&gt;</th></tr>\n",
       "</thead>\n",
       "<tbody>\n",
       "\t<tr><td> 84</td><td>4</td><td>19</td><td> prodigy         </td><td>NA</td><td>80</td><td>99</td><td>19</td></tr>\n",
       "\t<tr><td> 86</td><td>4</td><td>21</td><td> double jeopardy </td><td>NA</td><td>45</td><td>30</td><td>15</td></tr>\n",
       "\t<tr><td>109</td><td>5</td><td>22</td><td> revelations     </td><td>NA</td><td>78</td><td>96</td><td>28</td></tr>\n",
       "</tbody>\n",
       "</table>\n"
      ],
      "text/latex": [
       "A grouped\\_df: 3 × 8\n",
       "\\begin{tabular}{llllllll}\n",
       " episode\\_index & season\\_number & episode\\_number & episode\\_name & daniel & jack & sam & tealc\\\\\n",
       " <dbl> & <dbl> & <dbl> & <chr> & <int> & <int> & <int> & <int>\\\\\n",
       "\\hline\n",
       "\t  84 & 4 & 19 &  prodigy          & NA & 80 & 99 & 19\\\\\n",
       "\t  86 & 4 & 21 &  double jeopardy  & NA & 45 & 30 & 15\\\\\n",
       "\t 109 & 5 & 22 &  revelations      & NA & 78 & 96 & 28\\\\\n",
       "\\end{tabular}\n"
      ],
      "text/markdown": [
       "\n",
       "A grouped_df: 3 × 8\n",
       "\n",
       "| episode_index &lt;dbl&gt; | season_number &lt;dbl&gt; | episode_number &lt;dbl&gt; | episode_name &lt;chr&gt; | daniel &lt;int&gt; | jack &lt;int&gt; | sam &lt;int&gt; | tealc &lt;int&gt; |\n",
       "|---|---|---|---|---|---|---|---|\n",
       "|  84 | 4 | 19 |  prodigy          | NA | 80 | 99 | 19 |\n",
       "|  86 | 4 | 21 |  double jeopardy  | NA | 45 | 30 | 15 |\n",
       "| 109 | 5 | 22 |  revelations      | NA | 78 | 96 | 28 |\n",
       "\n"
      ],
      "text/plain": [
       "  episode_index season_number episode_number episode_name      daniel jack sam\n",
       "1  84           4             19              prodigy          NA     80   99 \n",
       "2  86           4             21              double jeopardy  NA     45   30 \n",
       "3 109           5             22              revelations      NA     78   96 \n",
       "  tealc\n",
       "1 19   \n",
       "2 15   \n",
       "3 28   "
      ]
     },
     "metadata": {},
     "output_type": "display_data"
    }
   ],
   "source": [
    "subset(maincharlines) %>%\n",
    "  group_by(episode_index,\n",
    "           season_number,\n",
    "           episode_number,\n",
    "           episode_name,\n",
    "           character) %>%\n",
    "  tally(sort = FALSE) %>%\n",
    "  pivot_wider(names_from = character, values_from = n) %>%\n",
    "  subset(is.na(tealc) | is.na(jack) | is.na(sam) | is.na(daniel))"
   ]
  },
  {
   "cell_type": "markdown",
   "metadata": {
    "papermill": {
     "duration": 0.050938,
     "end_time": "2021-02-22T21:58:38.440206",
     "exception": false,
     "start_time": "2021-02-22T21:58:38.389268",
     "status": "completed"
    },
    "tags": []
   },
   "source": [
    "- Season 2 Episode 16 \"A Matter of Time\" Daniel has two lines where at the end of the episode. He was with SG6 on a dig at P3X-808 for the majority of this time.\n",
    "- Season 3 Episode 1 \"Into the Fire\" has a very low frequency of lines for Jack which is unusual. This is the episode where he is taken by a Goa'uld and is MIA for a period of time. \n",
    "- Season 4 Episode 13 \"The Curse\" has a low frequency for Jack again, this is because he is fishing in Minnesota with Teal'c who also has a low number of lines for this episode relative to others, although not to the same extent.\n",
    "- Season 4 episode 19 \"Prodigy\" where Dr. Jackson is offworld with SG11.\n",
    "- Season 4 episode 21 \"Double Jeapordy\" is where most characters are replaced by clones and the real Daniel appears to have no lines at all.\n",
    "- Season 5 episode 22 \"Revelations\" is the episode where Daniel ascends so naturally he has no lines."
   ]
  },
  {
   "cell_type": "markdown",
   "metadata": {
    "papermill": {
     "duration": 0.050931,
     "end_time": "2021-02-22T21:58:38.540782",
     "exception": false,
     "start_time": "2021-02-22T21:58:38.489851",
     "status": "completed"
    },
    "tags": []
   },
   "source": [
    "<a id=\"subsection-four\"></a>\n",
    "## Frequency of Main Character Mentions in Dialogue\n",
    "This visualisation tracks how many times a main character is mentioned in dialogue by any other character. To look at this it was important to: \n",
    "1. Replace any instances of O'Neill with Jack, and Carter with Sam so we knew when the character was being mentioned regardless of the alias used. \n",
    "2. I also replaced the bi-gram \"Jack O'Neill\" with just \"Jack\" prior to this so I didn't double up in these cases.\n",
    "3. Occasionally Teal'c would combine a characters rank and surname or given and surnames into one word so this was accounted for as well.\n",
    "3. I then removed any text surrounded by brackets () as I found that this text represented embedded commentary/directions in lines of dialogue in certain transcribing styles."
   ]
  },
  {
   "cell_type": "code",
   "execution_count": 22,
   "metadata": {
    "_kg_hide-input": false,
    "_kg_hide-output": true,
    "execution": {
     "iopub.execute_input": "2021-02-22T21:58:38.646079Z",
     "iopub.status.busy": "2021-02-22T21:58:38.644456Z",
     "iopub.status.idle": "2021-02-22T21:58:42.608022Z",
     "shell.execute_reply": "2021-02-22T21:58:42.606750Z"
    },
    "papermill": {
     "duration": 4.017542,
     "end_time": "2021-02-22T21:58:42.608251",
     "exception": false,
     "start_time": "2021-02-22T21:58:38.590709",
     "status": "completed"
    },
    "tags": []
   },
   "outputs": [],
   "source": [
    "sg1corpusdialoguewords <-\n",
    "  subset(sg1corpus, character != \"directions\") %>%\n",
    "  mutate(content = str_replace_all(content, \"jack oneill\", \"jack\")) %>%\n",
    "  mutate(content = str_replace_all(content, \"danieljackson\", \"daniel\")) %>%\n",
    "  mutate(content = str_replace_all(content, \"captaincarter\", \"sam\")) %>%\n",
    "  mutate(content = str_replace_all(content, \"majorcarter\", \"sam\")) %>%\n",
    "  mutate(content = str_replace_all(content, \"oneill\", \"jack\")) %>%\n",
    "  mutate(content = str_replace_all(content, \"carter\", \"sam\")) %>%\n",
    "  mutate(content = str_replace_all(content, \"danny\", \"daniel\")) %>%\n",
    "  mutate(content = str_replace_all(content, \"jacks\", \"jack\")) %>%\n",
    "  mutate(content = str_replace_all(content, \"sams\", \"sam\")) %>%\n",
    "  mutate(content = str_replace_all(content, \"daniels\", \"daniel\")) %>%\n",
    "  mutate(content = str_replace_all(content, \"tealcs\", \"tealc\")) %>%\n",
    "  mutate(content = removeWords(content, stopwords(\"en\"))) %>%\n",
    "  mutate(content = stripWhitespace(trim(content))) %>%\n",
    "  subset(content != \"\") %>%\n",
    "  separate_rows(content, sep = \" \") %>%\n",
    "  group_by(episode_index,\n",
    "           season_number,\n",
    "           episode_number,\n",
    "           episode_name,\n",
    "           content) %>%\n",
    "  tally(sort = FALSE)"
   ]
  },
  {
   "cell_type": "code",
   "execution_count": 23,
   "metadata": {
    "execution": {
     "iopub.execute_input": "2021-02-22T21:58:42.713934Z",
     "iopub.status.busy": "2021-02-22T21:58:42.712547Z",
     "iopub.status.idle": "2021-02-22T21:58:43.683295Z",
     "shell.execute_reply": "2021-02-22T21:58:43.682823Z"
    },
    "papermill": {
     "duration": 1.024675,
     "end_time": "2021-02-22T21:58:43.683615",
     "exception": false,
     "start_time": "2021-02-22T21:58:42.658940",
     "status": "completed"
    },
    "tags": []
   },
   "outputs": [
    {
     "data": {
      "image/png": "[encoded data removed]"
     },
     "metadata": {
      "image/png": {
       "height": 420,
       "width": 900
      }
     },
     "output_type": "display_data"
    }
   ],
   "source": [
    "options(repr.plot.width = 15, repr.plot.height = 7)\n",
    "ggplot(subset(\n",
    "  sg1corpusdialoguewords,\n",
    "  content %in% c(\"sam\", \"jack\", \"daniel\", \"tealc\")\n",
    "),\n",
    "aes(x = episode_index, y = n)) +\n",
    "  geom_bar(stat = \"identity\",\n",
    "           fill = \"slategray3\",\n",
    "           colour = \"white\") +\n",
    "  theme_tb() +\n",
    "  facet_wrap( ~ content) +\n",
    "  labs(y = \"Count of Mentions\",\n",
    "       x = \"Episode\",\n",
    "       title = \"Frequency of Dialogue Mentions by Episode of Each Main Character\")"
   ]
  },
  {
   "cell_type": "markdown",
   "metadata": {
    "papermill": {
     "duration": 0.05222,
     "end_time": "2021-02-22T21:58:43.789046",
     "exception": false,
     "start_time": "2021-02-22T21:58:43.736826",
     "status": "completed"
    },
    "tags": []
   },
   "source": [
    "I return a table of all episodes where a character is not mentioned at all in dialogue. Upon a manual review of the original scripts these all appear genuine."
   ]
  },
  {
   "cell_type": "code",
   "execution_count": 24,
   "metadata": {
    "execution": {
     "iopub.execute_input": "2021-02-22T21:58:43.897951Z",
     "iopub.status.busy": "2021-02-22T21:58:43.896542Z",
     "iopub.status.idle": "2021-02-22T21:58:43.954820Z",
     "shell.execute_reply": "2021-02-22T21:58:43.953715Z"
    },
    "papermill": {
     "duration": 0.113406,
     "end_time": "2021-02-22T21:58:43.955020",
     "exception": false,
     "start_time": "2021-02-22T21:58:43.841614",
     "status": "completed"
    },
    "tags": []
   },
   "outputs": [
    {
     "data": {
      "text/html": [
       "<table class=\"dataframe\">\n",
       "<caption>A grouped_df: 3 × 8</caption>\n",
       "<thead>\n",
       "\t<tr><th scope=col>episode_index</th><th scope=col>season_number</th><th scope=col>episode_number</th><th scope=col>episode_name</th><th scope=col>daniel</th><th scope=col>jack</th><th scope=col>sam</th><th scope=col>tealc</th></tr>\n",
       "\t<tr><th scope=col>&lt;dbl&gt;</th><th scope=col>&lt;dbl&gt;</th><th scope=col>&lt;dbl&gt;</th><th scope=col>&lt;chr&gt;</th><th scope=col>&lt;int&gt;</th><th scope=col>&lt;int&gt;</th><th scope=col>&lt;int&gt;</th><th scope=col>&lt;int&gt;</th></tr>\n",
       "</thead>\n",
       "<tbody>\n",
       "\t<tr><td> 35</td><td>2</td><td>14</td><td> touchstone         </td><td>NA</td><td> 6</td><td>10</td><td> 2</td></tr>\n",
       "\t<tr><td> 70</td><td>4</td><td> 5</td><td> divide and conquer </td><td>NA</td><td>14</td><td>25</td><td>NA</td></tr>\n",
       "\t<tr><td>106</td><td>5</td><td>19</td><td> menace             </td><td> 9</td><td> 5</td><td> 7</td><td>NA</td></tr>\n",
       "</tbody>\n",
       "</table>\n"
      ],
      "text/latex": [
       "A grouped\\_df: 3 × 8\n",
       "\\begin{tabular}{llllllll}\n",
       " episode\\_index & season\\_number & episode\\_number & episode\\_name & daniel & jack & sam & tealc\\\\\n",
       " <dbl> & <dbl> & <dbl> & <chr> & <int> & <int> & <int> & <int>\\\\\n",
       "\\hline\n",
       "\t  35 & 2 & 14 &  touchstone          & NA &  6 & 10 &  2\\\\\n",
       "\t  70 & 4 &  5 &  divide and conquer  & NA & 14 & 25 & NA\\\\\n",
       "\t 106 & 5 & 19 &  menace              &  9 &  5 &  7 & NA\\\\\n",
       "\\end{tabular}\n"
      ],
      "text/markdown": [
       "\n",
       "A grouped_df: 3 × 8\n",
       "\n",
       "| episode_index &lt;dbl&gt; | season_number &lt;dbl&gt; | episode_number &lt;dbl&gt; | episode_name &lt;chr&gt; | daniel &lt;int&gt; | jack &lt;int&gt; | sam &lt;int&gt; | tealc &lt;int&gt; |\n",
       "|---|---|---|---|---|---|---|---|\n",
       "|  35 | 2 | 14 |  touchstone          | NA |  6 | 10 |  2 |\n",
       "|  70 | 4 |  5 |  divide and conquer  | NA | 14 | 25 | NA |\n",
       "| 106 | 5 | 19 |  menace              |  9 |  5 |  7 | NA |\n",
       "\n"
      ],
      "text/plain": [
       "  episode_index season_number episode_number episode_name         daniel jack\n",
       "1  35           2             14              touchstone          NA      6  \n",
       "2  70           4              5              divide and conquer  NA     14  \n",
       "3 106           5             19              menace               9      5  \n",
       "  sam tealc\n",
       "1 10   2   \n",
       "2 25  NA   \n",
       "3  7  NA   "
      ]
     },
     "metadata": {},
     "output_type": "display_data"
    }
   ],
   "source": [
    "subset(sg1corpusdialoguewords,\n",
    "    content %in% c(\"sam\", \"jack\", \"daniel\", \"tealc\")) %>% \n",
    "pivot_wider(names_from = content, values_from = n) %>%\n",
    "subset(is.na(tealc) | is.na(jack) | is.na(sam) | is.na(daniel))"
   ]
  },
  {
   "cell_type": "markdown",
   "metadata": {
    "papermill": {
     "duration": 0.053089,
     "end_time": "2021-02-22T21:58:44.062022",
     "exception": false,
     "start_time": "2021-02-22T21:58:44.008933",
     "status": "completed"
    },
    "tags": []
   },
   "source": [
    "<a id=\"section-fourteen\"></a>\n",
    "# Preview the Stargate SG1 Corpus"
   ]
  },
  {
   "cell_type": "code",
   "execution_count": 25,
   "metadata": {
    "_kg_hide-input": false,
    "execution": {
     "iopub.execute_input": "2021-02-22T21:58:44.173304Z",
     "iopub.status.busy": "2021-02-22T21:58:44.172054Z",
     "iopub.status.idle": "2021-02-22T21:58:44.211509Z",
     "shell.execute_reply": "2021-02-22T21:58:44.210409Z"
    },
    "papermill": {
     "duration": 0.096769,
     "end_time": "2021-02-22T21:58:44.211655",
     "exception": false,
     "start_time": "2021-02-22T21:58:44.114886",
     "status": "completed"
    },
    "tags": []
   },
   "outputs": [
    {
     "data": {
      "text/html": [
       "<table class=\"dataframe\">\n",
       "<caption>A tibble: 6 × 8</caption>\n",
       "<thead>\n",
       "\t<tr><th scope=col>index</th><th scope=col>season_number</th><th scope=col>episode_index</th><th scope=col>episode_number</th><th scope=col>episode_name</th><th scope=col>episode_writer</th><th scope=col>character</th><th scope=col>content</th></tr>\n",
       "\t<tr><th scope=col>&lt;int&gt;</th><th scope=col>&lt;dbl&gt;</th><th scope=col>&lt;dbl&gt;</th><th scope=col>&lt;dbl&gt;</th><th scope=col>&lt;chr&gt;</th><th scope=col>&lt;chr&gt;</th><th scope=col>&lt;chr&gt;</th><th scope=col>&lt;chr&gt;</th></tr>\n",
       "</thead>\n",
       "<tbody>\n",
       "\t<tr><td>1</td><td>1</td><td>1</td><td>1</td><td> children of the gods </td><td>jonathan glassner and brad wright</td><td>directions</td><td>the opening scene starts in the gateroom the gate is covered and in a corner of the room a group of four military personnel are playing a game of cards                    </td></tr>\n",
       "\t<tr><td>2</td><td>1</td><td>1</td><td>1</td><td> children of the gods </td><td>jonathan glassner and brad wright</td><td>airman    </td><td>oh man this hands as lousy as this detail all right everybody in or out                                                                                                    </td></tr>\n",
       "\t<tr><td>3</td><td>1</td><td>1</td><td>1</td><td> children of the gods </td><td>jonathan glassner and brad wright</td><td>directions</td><td>one of the personnel deals out some cards                                                                                                                                  </td></tr>\n",
       "\t<tr><td>4</td><td>1</td><td>1</td><td>1</td><td> children of the gods </td><td>jonathan glassner and brad wright</td><td>airman    </td><td>seven to the deuce nothing there boss on the eight nothing happening queen to the king possible straight going there eight on the eight and the jack gets a box eights open</td></tr>\n",
       "\t<tr><td>5</td><td>1</td><td>1</td><td>1</td><td> children of the gods </td><td>jonathan glassner and brad wright</td><td>female    </td><td>arent you guys afraid of an officer coming down here or something                                                                                                          </td></tr>\n",
       "\t<tr><td>6</td><td>1</td><td>1</td><td>1</td><td> children of the gods </td><td>jonathan glassner and brad wright</td><td>officer   </td><td>trust me nobody ever comes down here but us                                                                                                                                </td></tr>\n",
       "</tbody>\n",
       "</table>\n"
      ],
      "text/latex": [
       "A tibble: 6 × 8\n",
       "\\begin{tabular}{llllllll}\n",
       " index & season\\_number & episode\\_index & episode\\_number & episode\\_name & episode\\_writer & character & content\\\\\n",
       " <int> & <dbl> & <dbl> & <dbl> & <chr> & <chr> & <chr> & <chr>\\\\\n",
       "\\hline\n",
       "\t 1 & 1 & 1 & 1 &  children of the gods  & jonathan glassner and brad wright & directions & the opening scene starts in the gateroom the gate is covered and in a corner of the room a group of four military personnel are playing a game of cards                    \\\\\n",
       "\t 2 & 1 & 1 & 1 &  children of the gods  & jonathan glassner and brad wright & airman     & oh man this hands as lousy as this detail all right everybody in or out                                                                                                    \\\\\n",
       "\t 3 & 1 & 1 & 1 &  children of the gods  & jonathan glassner and brad wright & directions & one of the personnel deals out some cards                                                                                                                                  \\\\\n",
       "\t 4 & 1 & 1 & 1 &  children of the gods  & jonathan glassner and brad wright & airman     & seven to the deuce nothing there boss on the eight nothing happening queen to the king possible straight going there eight on the eight and the jack gets a box eights open\\\\\n",
       "\t 5 & 1 & 1 & 1 &  children of the gods  & jonathan glassner and brad wright & female     & arent you guys afraid of an officer coming down here or something                                                                                                          \\\\\n",
       "\t 6 & 1 & 1 & 1 &  children of the gods  & jonathan glassner and brad wright & officer    & trust me nobody ever comes down here but us                                                                                                                                \\\\\n",
       "\\end{tabular}\n"
      ],
      "text/markdown": [
       "\n",
       "A tibble: 6 × 8\n",
       "\n",
       "| index &lt;int&gt; | season_number &lt;dbl&gt; | episode_index &lt;dbl&gt; | episode_number &lt;dbl&gt; | episode_name &lt;chr&gt; | episode_writer &lt;chr&gt; | character &lt;chr&gt; | content &lt;chr&gt; |\n",
       "|---|---|---|---|---|---|---|---|\n",
       "| 1 | 1 | 1 | 1 |  children of the gods  | jonathan glassner and brad wright | directions | the opening scene starts in the gateroom the gate is covered and in a corner of the room a group of four military personnel are playing a game of cards                     |\n",
       "| 2 | 1 | 1 | 1 |  children of the gods  | jonathan glassner and brad wright | airman     | oh man this hands as lousy as this detail all right everybody in or out                                                                                                     |\n",
       "| 3 | 1 | 1 | 1 |  children of the gods  | jonathan glassner and brad wright | directions | one of the personnel deals out some cards                                                                                                                                   |\n",
       "| 4 | 1 | 1 | 1 |  children of the gods  | jonathan glassner and brad wright | airman     | seven to the deuce nothing there boss on the eight nothing happening queen to the king possible straight going there eight on the eight and the jack gets a box eights open |\n",
       "| 5 | 1 | 1 | 1 |  children of the gods  | jonathan glassner and brad wright | female     | arent you guys afraid of an officer coming down here or something                                                                                                           |\n",
       "| 6 | 1 | 1 | 1 |  children of the gods  | jonathan glassner and brad wright | officer    | trust me nobody ever comes down here but us                                                                                                                                 |\n",
       "\n"
      ],
      "text/plain": [
       "  index season_number episode_index episode_number episode_name          \n",
       "1 1     1             1             1               children of the gods \n",
       "2 2     1             1             1               children of the gods \n",
       "3 3     1             1             1               children of the gods \n",
       "4 4     1             1             1               children of the gods \n",
       "5 5     1             1             1               children of the gods \n",
       "6 6     1             1             1               children of the gods \n",
       "  episode_writer                    character \n",
       "1 jonathan glassner and brad wright directions\n",
       "2 jonathan glassner and brad wright airman    \n",
       "3 jonathan glassner and brad wright directions\n",
       "4 jonathan glassner and brad wright airman    \n",
       "5 jonathan glassner and brad wright female    \n",
       "6 jonathan glassner and brad wright officer   \n",
       "  content                                                                                                                                                                    \n",
       "1 the opening scene starts in the gateroom the gate is covered and in a corner of the room a group of four military personnel are playing a game of cards                    \n",
       "2 oh man this hands as lousy as this detail all right everybody in or out                                                                                                    \n",
       "3 one of the personnel deals out some cards                                                                                                                                  \n",
       "4 seven to the deuce nothing there boss on the eight nothing happening queen to the king possible straight going there eight on the eight and the jack gets a box eights open\n",
       "5 arent you guys afraid of an officer coming down here or something                                                                                                          \n",
       "6 trust me nobody ever comes down here but us                                                                                                                                "
      ]
     },
     "metadata": {},
     "output_type": "display_data"
    },
    {
     "data": {
      "text/html": [
       "<table class=\"dataframe\">\n",
       "<caption>A tibble: 6 × 8</caption>\n",
       "<thead>\n",
       "\t<tr><th scope=col>index</th><th scope=col>season_number</th><th scope=col>episode_index</th><th scope=col>episode_number</th><th scope=col>episode_name</th><th scope=col>episode_writer</th><th scope=col>character</th><th scope=col>content</th></tr>\n",
       "\t<tr><th scope=col>&lt;int&gt;</th><th scope=col>&lt;dbl&gt;</th><th scope=col>&lt;dbl&gt;</th><th scope=col>&lt;dbl&gt;</th><th scope=col>&lt;chr&gt;</th><th scope=col>&lt;chr&gt;</th><th scope=col>&lt;chr&gt;</th><th scope=col>&lt;chr&gt;</th></tr>\n",
       "</thead>\n",
       "<tbody>\n",
       "\t<tr><td>43814</td><td>5</td><td>109</td><td>22</td><td> revelations </td><td>joseph mallozzi and paul mullie</td><td>directions</td><td>suddenly sams hair is ruffled by a gust of wind                                                                                                                                   </td></tr>\n",
       "\t<tr><td>43815</td><td>5</td><td>109</td><td>22</td><td> revelations </td><td>joseph mallozzi and paul mullie</td><td>sam       </td><td>what was that                                                                                                                                                                     </td></tr>\n",
       "\t<tr><td>43816</td><td>5</td><td>109</td><td>22</td><td> revelations </td><td>joseph mallozzi and paul mullie</td><td>tealc     </td><td>perhaps a malfunction in the ventilation system                                                                                                                                   </td></tr>\n",
       "\t<tr><td>43817</td><td>5</td><td>109</td><td>22</td><td> revelations </td><td>joseph mallozzi and paul mullie</td><td>jack      </td><td>yeah thats probably it                                                                                                                                                            </td></tr>\n",
       "\t<tr><td>43818</td><td>5</td><td>109</td><td>22</td><td> revelations </td><td>joseph mallozzi and paul mullie</td><td>sam       </td><td>bye sir have a good night                                                                                                                                                         </td></tr>\n",
       "\t<tr><td>43819</td><td>5</td><td>109</td><td>22</td><td> revelations </td><td>joseph mallozzi and paul mullie</td><td>directions</td><td>hammond walks off past martin wood and sergeant siler sam walks into the elevator and tealc follows another gust of wind ruffles jacks hair and he turns into the elevator smiling</td></tr>\n",
       "</tbody>\n",
       "</table>\n"
      ],
      "text/latex": [
       "A tibble: 6 × 8\n",
       "\\begin{tabular}{llllllll}\n",
       " index & season\\_number & episode\\_index & episode\\_number & episode\\_name & episode\\_writer & character & content\\\\\n",
       " <int> & <dbl> & <dbl> & <dbl> & <chr> & <chr> & <chr> & <chr>\\\\\n",
       "\\hline\n",
       "\t 43814 & 5 & 109 & 22 &  revelations  & joseph mallozzi and paul mullie & directions & suddenly sams hair is ruffled by a gust of wind                                                                                                                                   \\\\\n",
       "\t 43815 & 5 & 109 & 22 &  revelations  & joseph mallozzi and paul mullie & sam        & what was that                                                                                                                                                                     \\\\\n",
       "\t 43816 & 5 & 109 & 22 &  revelations  & joseph mallozzi and paul mullie & tealc      & perhaps a malfunction in the ventilation system                                                                                                                                   \\\\\n",
       "\t 43817 & 5 & 109 & 22 &  revelations  & joseph mallozzi and paul mullie & jack       & yeah thats probably it                                                                                                                                                            \\\\\n",
       "\t 43818 & 5 & 109 & 22 &  revelations  & joseph mallozzi and paul mullie & sam        & bye sir have a good night                                                                                                                                                         \\\\\n",
       "\t 43819 & 5 & 109 & 22 &  revelations  & joseph mallozzi and paul mullie & directions & hammond walks off past martin wood and sergeant siler sam walks into the elevator and tealc follows another gust of wind ruffles jacks hair and he turns into the elevator smiling\\\\\n",
       "\\end{tabular}\n"
      ],
      "text/markdown": [
       "\n",
       "A tibble: 6 × 8\n",
       "\n",
       "| index &lt;int&gt; | season_number &lt;dbl&gt; | episode_index &lt;dbl&gt; | episode_number &lt;dbl&gt; | episode_name &lt;chr&gt; | episode_writer &lt;chr&gt; | character &lt;chr&gt; | content &lt;chr&gt; |\n",
       "|---|---|---|---|---|---|---|---|\n",
       "| 43814 | 5 | 109 | 22 |  revelations  | joseph mallozzi and paul mullie | directions | suddenly sams hair is ruffled by a gust of wind                                                                                                                                    |\n",
       "| 43815 | 5 | 109 | 22 |  revelations  | joseph mallozzi and paul mullie | sam        | what was that                                                                                                                                                                      |\n",
       "| 43816 | 5 | 109 | 22 |  revelations  | joseph mallozzi and paul mullie | tealc      | perhaps a malfunction in the ventilation system                                                                                                                                    |\n",
       "| 43817 | 5 | 109 | 22 |  revelations  | joseph mallozzi and paul mullie | jack       | yeah thats probably it                                                                                                                                                             |\n",
       "| 43818 | 5 | 109 | 22 |  revelations  | joseph mallozzi and paul mullie | sam        | bye sir have a good night                                                                                                                                                          |\n",
       "| 43819 | 5 | 109 | 22 |  revelations  | joseph mallozzi and paul mullie | directions | hammond walks off past martin wood and sergeant siler sam walks into the elevator and tealc follows another gust of wind ruffles jacks hair and he turns into the elevator smiling |\n",
       "\n"
      ],
      "text/plain": [
       "  index season_number episode_index episode_number episode_name \n",
       "1 43814 5             109           22              revelations \n",
       "2 43815 5             109           22              revelations \n",
       "3 43816 5             109           22              revelations \n",
       "4 43817 5             109           22              revelations \n",
       "5 43818 5             109           22              revelations \n",
       "6 43819 5             109           22              revelations \n",
       "  episode_writer                  character \n",
       "1 joseph mallozzi and paul mullie directions\n",
       "2 joseph mallozzi and paul mullie sam       \n",
       "3 joseph mallozzi and paul mullie tealc     \n",
       "4 joseph mallozzi and paul mullie jack      \n",
       "5 joseph mallozzi and paul mullie sam       \n",
       "6 joseph mallozzi and paul mullie directions\n",
       "  content                                                                                                                                                                           \n",
       "1 suddenly sams hair is ruffled by a gust of wind                                                                                                                                   \n",
       "2 what was that                                                                                                                                                                     \n",
       "3 perhaps a malfunction in the ventilation system                                                                                                                                   \n",
       "4 yeah thats probably it                                                                                                                                                            \n",
       "5 bye sir have a good night                                                                                                                                                         \n",
       "6 hammond walks off past martin wood and sergeant siler sam walks into the elevator and tealc follows another gust of wind ruffles jacks hair and he turns into the elevator smiling"
      ]
     },
     "metadata": {},
     "output_type": "display_data"
    }
   ],
   "source": [
    "sg1corpus <-\n",
    "  select(sg1corpus,-text_type) #Also remove the now redundant text_type field prior to writing\n",
    "head(sg1corpus)\n",
    "tail(sg1corpus)"
   ]
  }
 ],
 "metadata": {
  "kernelspec": {
   "display_name": "R",
   "language": "R",
   "name": "ir"
  },
  "language_info": {
   "codemirror_mode": "r",
   "file_extension": ".r",
   "mimetype": "text/x-r-source",
   "name": "R",
   "pygments_lexer": "r",
   "version": "3.6.3"
  },
  "papermill": {
   "default_parameters": {},
   "duration": 30.335503,
   "end_time": "2021-02-22T21:58:44.375464",
   "environment_variables": {},
   "exception": null,
   "input_path": "__notebook__.ipynb",
   "output_path": "__notebook__.ipynb",
   "parameters": {},
   "start_time": "2021-02-22T21:58:14.039961",
   "version": "2.2.2"
  }
 },
 "nbformat": 4,
 "nbformat_minor": 4
}
